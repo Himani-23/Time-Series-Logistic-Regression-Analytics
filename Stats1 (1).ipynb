{
 "cells": [
  {
   "cell_type": "markdown",
   "id": "b5d3cc22",
   "metadata": {
    "id": "b5d3cc22",
    "tags": []
   },
   "source": [
    "## PART A – Time Series Analysis\n",
    "\n",
    "A monthly time series a monthly time series of average temperatures in Armagh from January 1844 to December 2004. Estimation and discussion of time series models from\n",
    "each of the categories are as follows:\n",
    "\n",
    "1.  Exponential Smoothing / ETS models\n",
    "2.  ARIMA/SARIMA models\n",
    "3.  Simple time series models"
   ]
  },
  {
   "cell_type": "markdown",
   "id": "6df609bd",
   "metadata": {
    "id": "6df609bd"
   },
   "source": [
    "#### Importing Libraries and Reading the dataset"
   ]
  },
  {
   "cell_type": "code",
   "execution_count": 1,
   "id": "45a5a466",
   "metadata": {
    "id": "45a5a466"
   },
   "outputs": [],
   "source": [
    "##Import the required libraries\n",
    "\n",
    "import numpy as np\n",
    "import pandas as pd\n",
    "import matplotlib.pyplot as plt\n",
    "%matplotlib inline\n",
    "import seaborn as sns\n",
    "from pylab import rcParams\n",
    "from statsmodels.distributions.empirical_distribution import ECDF\n",
    "%matplotlib inline\n",
    "import warnings\n",
    "warnings.filterwarnings('ignore')\n",
    "colname=['x']"
   ]
  },
  {
   "cell_type": "code",
   "execution_count": 2,
   "id": "85afb7b0-99c1-4507-806f-183cba745ecc",
   "metadata": {},
   "outputs": [
    {
     "name": "stdout",
     "output_type": "stream",
     "text": [
      "Defaulting to user installation because normal site-packages is not writeable\n",
      "Collecting pmdarima\n",
      "  Downloading pmdarima-2.0.3-cp39-cp39-win_amd64.whl (572 kB)\n",
      "     -------------------------------------- 572.7/572.7 kB 4.5 MB/s eta 0:00:00\n",
      "Requirement already satisfied: joblib>=0.11 in c:\\programdata\\anaconda3\\lib\\site-packages (from pmdarima) (1.1.0)\n",
      "Requirement already satisfied: statsmodels>=0.13.2 in c:\\programdata\\anaconda3\\lib\\site-packages (from pmdarima) (0.13.2)\n",
      "Requirement already satisfied: setuptools!=50.0.0,>=38.6.0 in c:\\programdata\\anaconda3\\lib\\site-packages (from pmdarima) (63.4.1)\n",
      "Requirement already satisfied: scipy>=1.3.2 in c:\\programdata\\anaconda3\\lib\\site-packages (from pmdarima) (1.9.1)\n",
      "Requirement already satisfied: pandas>=0.19 in c:\\programdata\\anaconda3\\lib\\site-packages (from pmdarima) (1.4.4)\n",
      "Requirement already satisfied: numpy>=1.21.2 in c:\\users\\himan\\appdata\\roaming\\python\\python39\\site-packages (from pmdarima) (1.23.5)\n",
      "Requirement already satisfied: Cython!=0.29.18,!=0.29.31,>=0.29 in c:\\programdata\\anaconda3\\lib\\site-packages (from pmdarima) (0.29.32)\n",
      "Requirement already satisfied: scikit-learn>=0.22 in c:\\programdata\\anaconda3\\lib\\site-packages (from pmdarima) (1.0.2)\n",
      "Requirement already satisfied: urllib3 in c:\\programdata\\anaconda3\\lib\\site-packages (from pmdarima) (1.26.11)\n",
      "Requirement already satisfied: python-dateutil>=2.8.1 in c:\\programdata\\anaconda3\\lib\\site-packages (from pandas>=0.19->pmdarima) (2.8.2)\n",
      "Requirement already satisfied: pytz>=2020.1 in c:\\programdata\\anaconda3\\lib\\site-packages (from pandas>=0.19->pmdarima) (2022.1)\n",
      "Requirement already satisfied: threadpoolctl>=2.0.0 in c:\\programdata\\anaconda3\\lib\\site-packages (from scikit-learn>=0.22->pmdarima) (2.2.0)\n",
      "Requirement already satisfied: patsy>=0.5.2 in c:\\programdata\\anaconda3\\lib\\site-packages (from statsmodels>=0.13.2->pmdarima) (0.5.2)\n",
      "Requirement already satisfied: packaging>=21.3 in c:\\programdata\\anaconda3\\lib\\site-packages (from statsmodels>=0.13.2->pmdarima) (21.3)\n",
      "Requirement already satisfied: pyparsing!=3.0.5,>=2.0.2 in c:\\programdata\\anaconda3\\lib\\site-packages (from packaging>=21.3->statsmodels>=0.13.2->pmdarima) (3.0.9)\n",
      "Requirement already satisfied: six in c:\\programdata\\anaconda3\\lib\\site-packages (from patsy>=0.5.2->statsmodels>=0.13.2->pmdarima) (1.16.0)\n",
      "Installing collected packages: pmdarima\n",
      "Successfully installed pmdarima-2.0.3\n",
      "Note: you may need to restart the kernel to use updated packages.\n"
     ]
    }
   ],
   "source": [
    "pip install pmdarima"
   ]
  },
  {
   "cell_type": "code",
   "execution_count": 3,
   "id": "b97b8da0",
   "metadata": {
    "id": "b97b8da0"
   },
   "outputs": [],
   "source": [
    "from statsmodels.graphics.tsaplots import month_plot\n",
    "from pmdarima.pipeline import Pipeline\n",
    "from pmdarima.preprocessing import BoxCoxEndogTransformer\n",
    "import pmdarima as pm\n",
    "from pmdarima.model_selection import train_test_split\n",
    "from statsmodels.tsa.stattools import adfuller\n",
    "from statsmodels.tsa.seasonal import seasonal_decompose\n",
    "from statsmodels.graphics.tsaplots import plot_acf, plot_pacf\n",
    "from sklearn import metrics\n",
    "from statsmodels.tsa.api import ExponentialSmoothing, SimpleExpSmoothing, Holt\n",
    "from statsmodels.tsa.arima_model import ARIMA\n"
   ]
  },
  {
   "cell_type": "code",
   "execution_count": 4,
   "id": "864d2c09",
   "metadata": {
    "colab": {
     "base_uri": "https://localhost:8080/",
     "height": 206
    },
    "id": "864d2c09",
    "outputId": "7433311a-4cd5-4d66-a1b4-bf2cd6397345"
   },
   "outputs": [
    {
     "data": {
      "text/html": [
       "<div>\n",
       "<style scoped>\n",
       "    .dataframe tbody tr th:only-of-type {\n",
       "        vertical-align: middle;\n",
       "    }\n",
       "\n",
       "    .dataframe tbody tr th {\n",
       "        vertical-align: top;\n",
       "    }\n",
       "\n",
       "    .dataframe thead th {\n",
       "        text-align: right;\n",
       "    }\n",
       "</style>\n",
       "<table border=\"1\" class=\"dataframe\">\n",
       "  <thead>\n",
       "    <tr style=\"text-align: right;\">\n",
       "      <th></th>\n",
       "      <th>x</th>\n",
       "    </tr>\n",
       "  </thead>\n",
       "  <tbody>\n",
       "    <tr>\n",
       "      <th>0</th>\n",
       "      <td>x</td>\n",
       "    </tr>\n",
       "    <tr>\n",
       "      <th>1</th>\n",
       "      <td>4.5</td>\n",
       "    </tr>\n",
       "    <tr>\n",
       "      <th>2</th>\n",
       "      <td>2.4</td>\n",
       "    </tr>\n",
       "    <tr>\n",
       "      <th>3</th>\n",
       "      <td>4.8</td>\n",
       "    </tr>\n",
       "    <tr>\n",
       "      <th>4</th>\n",
       "      <td>9.1</td>\n",
       "    </tr>\n",
       "  </tbody>\n",
       "</table>\n",
       "</div>"
      ],
      "text/plain": [
       "     x\n",
       "0    x\n",
       "1  4.5\n",
       "2  2.4\n",
       "3  4.8\n",
       "4  9.1"
      ]
     },
     "execution_count": 4,
     "metadata": {},
     "output_type": "execute_result"
    }
   ],
   "source": [
    "#read the dataset\n",
    "dataset = pd.read_csv(\"nitm18442004.csv\", names=colname, header=None)\n",
    "dataset.head()"
   ]
  },
  {
   "cell_type": "code",
   "execution_count": 5,
   "id": "806771d4",
   "metadata": {
    "id": "806771d4",
    "outputId": "e4c632cb-a4b5-4530-bbd2-0077575f9282"
   },
   "outputs": [
    {
     "data": {
      "text/plain": [
       "(1933, 1)"
      ]
     },
     "execution_count": 5,
     "metadata": {},
     "output_type": "execute_result"
    }
   ],
   "source": [
    "#shape of dataset\n",
    "dataset.shape"
   ]
  },
  {
   "cell_type": "code",
   "execution_count": 6,
   "id": "098274ab",
   "metadata": {
    "id": "098274ab",
    "outputId": "dc3da6ef-21a7-4679-c4e8-495757953fab"
   },
   "outputs": [
    {
     "data": {
      "text/html": [
       "<div>\n",
       "<style scoped>\n",
       "    .dataframe tbody tr th:only-of-type {\n",
       "        vertical-align: middle;\n",
       "    }\n",
       "\n",
       "    .dataframe tbody tr th {\n",
       "        vertical-align: top;\n",
       "    }\n",
       "\n",
       "    .dataframe thead th {\n",
       "        text-align: right;\n",
       "    }\n",
       "</style>\n",
       "<table border=\"1\" class=\"dataframe\">\n",
       "  <thead>\n",
       "    <tr style=\"text-align: right;\">\n",
       "      <th></th>\n",
       "      <th>x</th>\n",
       "    </tr>\n",
       "  </thead>\n",
       "  <tbody>\n",
       "    <tr>\n",
       "      <th>1928</th>\n",
       "      <td>15.4</td>\n",
       "    </tr>\n",
       "    <tr>\n",
       "      <th>1929</th>\n",
       "      <td>13.2</td>\n",
       "    </tr>\n",
       "    <tr>\n",
       "      <th>1930</th>\n",
       "      <td>8.6</td>\n",
       "    </tr>\n",
       "    <tr>\n",
       "      <th>1931</th>\n",
       "      <td>8.2</td>\n",
       "    </tr>\n",
       "    <tr>\n",
       "      <th>1932</th>\n",
       "      <td>6.2</td>\n",
       "    </tr>\n",
       "  </tbody>\n",
       "</table>\n",
       "</div>"
      ],
      "text/plain": [
       "         x\n",
       "1928  15.4\n",
       "1929  13.2\n",
       "1930   8.6\n",
       "1931   8.2\n",
       "1932   6.2"
      ]
     },
     "execution_count": 6,
     "metadata": {},
     "output_type": "execute_result"
    }
   ],
   "source": [
    "#last 5 columns\n",
    "dataset.tail()"
   ]
  },
  {
   "cell_type": "code",
   "execution_count": 7,
   "id": "e4c1eaf9",
   "metadata": {
    "colab": {
     "base_uri": "https://localhost:8080/"
    },
    "id": "e4c1eaf9",
    "outputId": "f413651e-71ad-442a-fb8b-c08e23282ab9"
   },
   "outputs": [
    {
     "data": {
      "text/plain": [
       "DatetimeIndex(['2003-01-31', '2003-02-28', '2003-03-31', '2003-04-30',\n",
       "               '2003-05-31', '2003-06-30', '2003-07-31', '2003-08-31',\n",
       "               '2003-09-30', '2003-10-31', '2003-11-30', '2003-12-31'],\n",
       "              dtype='datetime64[ns]', freq='M')"
      ]
     },
     "execution_count": 7,
     "metadata": {},
     "output_type": "execute_result"
    }
   ],
   "source": [
    "#Data refers from Jan 1844 to December 2004.  It represents a monthly time series of average temperatures in Armagh. Creating monthly dates for timestamp from Jan 1844 to Dec 2004.\n",
    "month = pd.date_range(start='1/1/2003', end='1/1/2004', freq='M')\n",
    "month"
   ]
  },
  {
   "cell_type": "code",
   "execution_count": 8,
   "id": "96acdbc8-8d60-4e48-93d7-00daebf5871e",
   "metadata": {},
   "outputs": [
    {
     "data": {
      "text/html": [
       "<div>\n",
       "<style scoped>\n",
       "    .dataframe tbody tr th:only-of-type {\n",
       "        vertical-align: middle;\n",
       "    }\n",
       "\n",
       "    .dataframe tbody tr th {\n",
       "        vertical-align: top;\n",
       "    }\n",
       "\n",
       "    .dataframe thead th {\n",
       "        text-align: right;\n",
       "    }\n",
       "</style>\n",
       "<table border=\"1\" class=\"dataframe\">\n",
       "  <thead>\n",
       "    <tr style=\"text-align: right;\">\n",
       "      <th></th>\n",
       "      <th>x</th>\n",
       "    </tr>\n",
       "  </thead>\n",
       "  <tbody>\n",
       "    <tr>\n",
       "      <th>0</th>\n",
       "      <td>2003-01-31</td>\n",
       "    </tr>\n",
       "    <tr>\n",
       "      <th>1</th>\n",
       "      <td>2003-02-28</td>\n",
       "    </tr>\n",
       "    <tr>\n",
       "      <th>2</th>\n",
       "      <td>2003-03-31</td>\n",
       "    </tr>\n",
       "    <tr>\n",
       "      <th>3</th>\n",
       "      <td>2003-04-30</td>\n",
       "    </tr>\n",
       "    <tr>\n",
       "      <th>4</th>\n",
       "      <td>2003-05-31</td>\n",
       "    </tr>\n",
       "  </tbody>\n",
       "</table>\n",
       "</div>"
      ],
      "text/plain": [
       "           x\n",
       "0 2003-01-31\n",
       "1 2003-02-28\n",
       "2 2003-03-31\n",
       "3 2003-04-30\n",
       "4 2003-05-31"
      ]
     },
     "execution_count": 8,
     "metadata": {},
     "output_type": "execute_result"
    }
   ],
   "source": [
    "import pandas as pd\n",
    "\n",
    "#creating new column\n",
    "dataset['x'] = pd.DataFrame({'Month': month})\n",
    "\n",
    "dataset.head()"
   ]
  },
  {
   "cell_type": "markdown",
   "id": "fc8e28d6",
   "metadata": {
    "id": "fc8e28d6"
   },
   "source": [
    "### statistical description"
   ]
  },
  {
   "cell_type": "code",
   "execution_count": 9,
   "id": "d68e3d9e",
   "metadata": {
    "id": "d68e3d9e",
    "outputId": "a09282e9-3d8a-4082-8e61-3144f642fd2d"
   },
   "outputs": [
    {
     "data": {
      "text/html": [
       "<div>\n",
       "<style scoped>\n",
       "    .dataframe tbody tr th:only-of-type {\n",
       "        vertical-align: middle;\n",
       "    }\n",
       "\n",
       "    .dataframe tbody tr th {\n",
       "        vertical-align: top;\n",
       "    }\n",
       "\n",
       "    .dataframe thead th {\n",
       "        text-align: right;\n",
       "    }\n",
       "</style>\n",
       "<table border=\"1\" class=\"dataframe\">\n",
       "  <thead>\n",
       "    <tr style=\"text-align: right;\">\n",
       "      <th></th>\n",
       "      <th>x</th>\n",
       "    </tr>\n",
       "  </thead>\n",
       "  <tbody>\n",
       "    <tr>\n",
       "      <th>count</th>\n",
       "      <td>12</td>\n",
       "    </tr>\n",
       "    <tr>\n",
       "      <th>unique</th>\n",
       "      <td>12</td>\n",
       "    </tr>\n",
       "    <tr>\n",
       "      <th>top</th>\n",
       "      <td>2003-01-31 00:00:00</td>\n",
       "    </tr>\n",
       "    <tr>\n",
       "      <th>freq</th>\n",
       "      <td>1</td>\n",
       "    </tr>\n",
       "    <tr>\n",
       "      <th>first</th>\n",
       "      <td>2003-01-31 00:00:00</td>\n",
       "    </tr>\n",
       "    <tr>\n",
       "      <th>last</th>\n",
       "      <td>2003-12-31 00:00:00</td>\n",
       "    </tr>\n",
       "  </tbody>\n",
       "</table>\n",
       "</div>"
      ],
      "text/plain": [
       "                          x\n",
       "count                    12\n",
       "unique                   12\n",
       "top     2003-01-31 00:00:00\n",
       "freq                      1\n",
       "first   2003-01-31 00:00:00\n",
       "last    2003-12-31 00:00:00"
      ]
     },
     "execution_count": 9,
     "metadata": {},
     "output_type": "execute_result"
    }
   ],
   "source": [
    "#dataset description\n",
    "dataset.describe()"
   ]
  },
  {
   "cell_type": "markdown",
   "id": "58e2e926",
   "metadata": {
    "id": "58e2e926"
   },
   "source": [
    "### Checking for the null values present in the dataset"
   ]
  },
  {
   "cell_type": "code",
   "execution_count": 11,
   "id": "a4a4ba32",
   "metadata": {
    "id": "a4a4ba32",
    "outputId": "66e72a21-bb30-4bd3-8095-cf3d5205d4be"
   },
   "outputs": [
    {
     "data": {
      "text/plain": [
       "x    1921\n",
       "dtype: int64"
      ]
     },
     "execution_count": 11,
     "metadata": {},
     "output_type": "execute_result"
    }
   ],
   "source": [
    "dataset.isnull().sum()"
   ]
  },
  {
   "cell_type": "markdown",
   "id": "ce3b926a",
   "metadata": {
    "id": "ce3b926a"
   },
   "source": [
    "### Exploratory Data Analysis"
   ]
  },
  {
   "cell_type": "code",
   "execution_count": 13,
   "id": "27e98d03-9079-47f3-8bb1-ebcbcadc63b1",
   "metadata": {},
   "outputs": [
    {
     "data": {
      "image/png": "[encoded data removed]",
      "text/plain": [
       "<Figure size 800x600 with 1 Axes>"
      ]
     },
     "metadata": {},
     "output_type": "display_data"
    }
   ],
   "source": [
    "plt.figure(figsize=(8, 6))\n",
    "sns.histplot(data=dataset, x='x', bins=10)\n",
    "plt.xlabel('x')\n",
    "plt.ylabel('Frequency')\n",
    "plt.title('Distribution of x')\n",
    "plt.show()"
   ]
  },
  {
   "cell_type": "code",
   "execution_count": 16,
   "id": "8827b646",
   "metadata": {
    "id": "8827b646",
    "outputId": "c2123ea6-9f43-4d61-fe93-c3be3a5b7f77"
   },
   "outputs": [
    {
     "data": {
      "image/png": "[encoded data removed]",
      "text/plain": [
       "<Figure size 900x600 with 1 Axes>"
      ]
     },
     "metadata": {},
     "output_type": "display_data"
    }
   ],
   "source": [
    "#ploting new_car_registration with respect to Date\n",
    "plt.figure(figsize=(9,6))\n",
    "plt.grid(True)\n",
    "plt.xlabel('Date')\n",
    "plt.ylabel('Average Temperature')\n",
    "plt.plot(dataset['x'])\n",
    "plt.title('Average Temperature')\n",
    "plt.show()"
   ]
  },
  {
   "cell_type": "code",
   "execution_count": 18,
   "id": "8c7f0011",
   "metadata": {
    "id": "8c7f0011",
    "outputId": "054224bd-6eb0-4ba3-c21f-0d89fb9ad219"
   },
   "outputs": [
    {
     "data": {
      "text/plain": [
       "<AxesSubplot:xlabel='x', ylabel='Density'>"
      ]
     },
     "execution_count": 18,
     "metadata": {},
     "output_type": "execute_result"
    },
    {
     "data": {
      "image/png": "[encoded data removed]",
      "text/plain": [
       "<Figure size 640x480 with 1 Axes>"
      ]
     },
     "metadata": {},
     "output_type": "display_data"
    }
   ],
   "source": [
    "#displot \n",
    "sns.distplot(dataset['x'])"
   ]
  },
  {
   "cell_type": "markdown",
   "id": "d355fdec",
   "metadata": {
    "id": "d355fdec"
   },
   "source": [
    "#### Monthly stripplot"
   ]
  },
  {
   "cell_type": "code",
   "execution_count": 26,
   "id": "e6ba1d03",
   "metadata": {
    "id": "e6ba1d03",
    "outputId": "0f58f913-f0e2-4363-d8b3-e76f398998ec"
   },
   "outputs": [
    {
     "data": {
      "text/plain": [
       "Text(0, 0.5, 'Monthly Average Temperature data')"
      ]
     },
     "execution_count": 26,
     "metadata": {},
     "output_type": "execute_result"
    },
    {
     "data": {
      "image/png": "[encoded data removed]",
      "text/plain": [
       "<Figure size 2000x700 with 1 Axes>"
      ]
     },
     "metadata": {},
     "output_type": "display_data"
    }
   ],
   "source": [
    "# Convert index to DatetimeIndex if it's not already\n",
    "if not isinstance(dataset.index, pd.DatetimeIndex):\n",
    "    dataset.index = pd.to_datetime(dataset.index)\n",
    "\n",
    "# Extract month names from the DatetimeIndex\n",
    "months = dataset.index.month_name()\n",
    "\n",
    "# Plot the stripplot\n",
    "_, ax = plt.subplots(figsize=(20, 7))\n",
    "sns.stripplot(x=months, y=dataset.values[:, 0], ax=ax)\n",
    "plt.grid()\n",
    "plt.xlabel('Month', fontsize=14)\n",
    "plt.ylabel('Monthly Average Temperature data', fontsize=15)\n"
   ]
  },
  {
   "cell_type": "markdown",
   "id": "7c0a1257",
   "metadata": {
    "id": "7c0a1257",
    "tags": []
   },
   "source": [
    "#### Yearly violinplot"
   ]
  },
  {
   "cell_type": "code",
   "execution_count": 27,
   "id": "2fee8746",
   "metadata": {
    "id": "2fee8746",
    "outputId": "38262e8a-57c0-40a1-8aab-743c2b551f7f"
   },
   "outputs": [
    {
     "name": "stderr",
     "output_type": "stream",
     "text": [
      "No artists with labels found to put in legend.  Note that artists whose label start with an underscore are ignored when legend() is called with no argument.\n"
     ]
    },
    {
     "data": {
      "text/plain": [
       "<matplotlib.legend.Legend at 0x1bb5efc20d0>"
      ]
     },
     "execution_count": 27,
     "metadata": {},
     "output_type": "execute_result"
    },
    {
     "data": {
      "image/png": "[encoded data removed]",
      "text/plain": [
       "<Figure size 2000x700 with 1 Axes>"
      ]
     },
     "metadata": {},
     "output_type": "display_data"
    }
   ],
   "source": [
    "_, ax = plt.subplots(figsize=(20,7))\n",
    "sns.violinplot(x = dataset.index.year,y = dataset.values[:,0],ax=ax)\n",
    "plt.grid();\n",
    "plt.xlabel('Year',fontsize=15)\n",
    "plt.ylabel('new_car_registration',fontsize=15)\n",
    "plt.rc('xtick',labelsize=15)\n",
    "plt.rc('ytick',labelsize=15)\n",
    "plt.title('Yearly violinplot')\n",
    "plt.legend(fontsize=\"xx-large\")"
   ]
  },
  {
   "cell_type": "code",
   "execution_count": null,
   "id": "fd9cd557",
   "metadata": {
    "id": "fd9cd557",
    "outputId": "3f38c20a-ba4a-448f-fe2c-1b9bf66f1c57"
   },
   "outputs": [],
   "source": []
  },
  {
   "cell_type": "code",
   "execution_count": null,
   "id": "741ddeb7",
   "metadata": {
    "id": "741ddeb7",
    "outputId": "6b001830-3ce0-460d-d1e2-45b0d3c40831"
   },
   "outputs": [],
   "source": []
  },
  {
   "cell_type": "markdown",
   "id": "418db3d1",
   "metadata": {
    "id": "418db3d1"
   },
   "source": [
    "#### Plot the average registration per month and the month on month percentage change of registration."
   ]
  },
  {
   "cell_type": "code",
   "execution_count": 30,
   "id": "c4f5db3a",
   "metadata": {
    "id": "c4f5db3a",
    "outputId": "3de6c154-fdcf-4e45-80b0-4dbe42e6de6d"
   },
   "outputs": [
    {
     "data": {
      "image/png": "[encoded data removed]",
      "text/plain": [
       "<Figure size 1500x800 with 2 Axes>"
      ]
     },
     "metadata": {},
     "output_type": "display_data"
    }
   ],
   "source": [
    "# Convert \"x\" column to numeric type\n",
    "dataset[\"x\"] = pd.to_numeric(dataset[\"x\"], errors=\"coerce\")\n",
    "\n",
    "# Group by date and get average registration and percent change\n",
    "average = dataset.groupby(dataset.index)[\"x\"].mean()\n",
    "pct_change = average.pct_change()\n",
    "\n",
    "# Plot the results\n",
    "fig, (axis1, axis2) = plt.subplots(2, 1, sharex=True, figsize=(15, 8))\n",
    "axis1.plot(average.index, average.values)\n",
    "axis1.set_ylabel('Average Registration')\n",
    "axis2.plot(pct_change.index, pct_change.values)\n",
    "axis2.set_ylabel('Percent Change')\n",
    "plt.xlabel('Date')\n",
    "plt.show()\n"
   ]
  },
  {
   "cell_type": "markdown",
   "id": "f1bc23e0",
   "metadata": {
    "id": "f1bc23e0"
   },
   "source": [
    "#### Plotting the time series monthplot to understand the spread of registration across different years and within different months across years"
   ]
  },
  {
   "cell_type": "code",
   "execution_count": 33,
   "id": "7ecbb520",
   "metadata": {
    "id": "7ecbb520",
    "outputId": "e4e2c40c-cce1-41a8-c457-6deaeeab35b1"
   },
   "outputs": [
    {
     "data": {
      "image/png": "[encoded data removed]",
      "text/plain": [
       "<Figure size 2000x800 with 1 Axes>"
      ]
     },
     "metadata": {},
     "output_type": "display_data"
    }
   ],
   "source": [
    "import matplotlib.pyplot as plt\n",
    "import pandas as pd\n",
    "\n",
    "# Adjust figure size\n",
    "plt.rcParams['figure.figsize'] = (20, 8)\n",
    "\n",
    "# Adjust tick label sizes\n",
    "plt.rc('xtick', labelsize=16)\n",
    "plt.rc('ytick', labelsize=16)\n",
    "\n",
    "# Resample the data to non-standard frequency\n",
    "resampled_data = dataset['x'].resample('N').mean()\n",
    "\n",
    "# Create month plot\n",
    "plt.plot(resampled_data.index, resampled_data.values)\n",
    "plt.xlabel('Date')\n",
    "plt.ylabel('new_car_registration')\n",
    "plt.title('Time series month plot for new_car_registration')\n",
    "plt.grid()\n",
    "\n",
    "# Display the plot\n",
    "plt.show()\n"
   ]
  },
  {
   "cell_type": "code",
   "execution_count": 34,
   "id": "8a148dd8",
   "metadata": {
    "id": "8a148dd8",
    "outputId": "2e064c09-6b87-4240-f13b-4ea4c7672606"
   },
   "outputs": [
    {
     "name": "stderr",
     "output_type": "stream",
     "text": [
      "No artists with labels found to put in legend.  Note that artists whose label start with an underscore are ignored when legend() is called with no argument.\n"
     ]
    },
    {
     "data": {
      "image/png": "[encoded data removed]",
      "text/plain": [
       "<Figure size 1000x600 with 1 Axes>"
      ]
     },
     "metadata": {},
     "output_type": "display_data"
    }
   ],
   "source": [
    "rcParams['figure.figsize'] = 10, 6\n",
    "df_log = np.log(dataset)\n",
    "moving_avg = df_log.rolling(12).mean()\n",
    "std_dev = df_log.rolling(12).std()\n",
    "plt.legend(loc='best')\n",
    "plt.title('Moving Average')\n",
    "plt.plot(std_dev, color =\"black\", label = \"Standard Deviation\")\n",
    "plt.plot(moving_avg, color=\"red\", label = \"Mean\")\n",
    "plt.legend()\n",
    "plt.show()"
   ]
  },
  {
   "cell_type": "markdown",
   "id": "03ddb5b7",
   "metadata": {
    "id": "03ddb5b7"
   },
   "source": [
    "#### Plotting the Empirical Cumulative Distribution."
   ]
  },
  {
   "cell_type": "code",
   "execution_count": 35,
   "id": "8b118702",
   "metadata": {
    "id": "8b118702",
    "outputId": "f73ce00c-0efb-4d6e-e800-3e6866722e91"
   },
   "outputs": [
    {
     "data": {
      "text/plain": [
       "Text(0.5, 0, 'Temperature')"
      ]
     },
     "execution_count": 35,
     "metadata": {},
     "output_type": "execute_result"
    },
    {
     "data": {
      "image/png": "[encoded data removed]",
      "text/plain": [
       "<Figure size 800x800 with 1 Axes>"
      ]
     },
     "metadata": {},
     "output_type": "display_data"
    }
   ],
   "source": [
    "plt.figure(figsize = (8, 8))\n",
    "cdf = ECDF(dataset['x'])\n",
    "plt.plot(cdf.x, cdf.y, label = \"statmodels\");\n",
    "plt.grid()\n",
    "plt.title('Plotting the Empirical Cumulative Distribution')\n",
    "plt.rc('xtick',labelsize=8)\n",
    "plt.rc('ytick',labelsize=8)\n",
    "plt.xlabel('Temperature', fontsize = 15)"
   ]
  },
  {
   "cell_type": "markdown",
   "id": "fab7921f",
   "metadata": {
    "id": "fab7921f"
   },
   "source": [
    "#### Yearly Total Registration"
   ]
  },
  {
   "cell_type": "code",
   "execution_count": null,
   "id": "70b22fb8",
   "metadata": {
    "id": "70b22fb8",
    "outputId": "c27f2b24-72e8-448a-d6eb-3981c92f154c"
   },
   "outputs": [],
   "source": [
    "monthly_car_registration_across_years = pd.pivot_table(dataset_final, values = 'new_car_registration', columns = dataset_final.index.month_name(), index = dataset_final.index.year)\n",
    "yearly_total_car_registration = monthly_car_registration_across_years.sum(axis = 1, skipna = True) \n",
    "yearly_total_car_registration\n"
   ]
  },
  {
   "cell_type": "code",
   "execution_count": null,
   "id": "aaef4855",
   "metadata": {
    "id": "aaef4855",
    "outputId": "cacee252-2d92-40ef-9ae6-22b6aeb6bce0"
   },
   "outputs": [],
   "source": [
    "yearly_total_car_registration.plot(figsize=(10,8))\n",
    "plt.grid()\n",
    "plt.title('Yearly Total Registration')\n",
    "plt.xlabel('Years',fontsize=13)\n",
    "plt.ylabel('Total car Registration',fontsize=15)\n",
    "plt.rc('xtick',labelsize=13)\n",
    "plt.rc('ytick',labelsize=13)\n"
   ]
  },
  {
   "cell_type": "markdown",
   "id": "5a005a51",
   "metadata": {
    "id": "5a005a51"
   },
   "source": [
    "#### Plot registration for every year"
   ]
  },
  {
   "cell_type": "code",
   "execution_count": null,
   "id": "52af5297",
   "metadata": {
    "id": "52af5297",
    "outputId": "8a0549cb-2a55-4393-8841-ec51c391bf11"
   },
   "outputs": [],
   "source": [
    "## Plot registration for every year\n",
    "fig, (axis1) = plt.subplots(1,figsize=(13,4))\n",
    "sns.scatterplot(x=dataset_final.index.year, y=dataset_final.values[:,0], data=dataset_final, ax=axis1)\n",
    "plt.title('Plot car registration for every year')\n",
    "plt.rc('xtick',labelsize=13)\n",
    "plt.rc('ytick',labelsize=13)\n",
    "plt.xlabel('Year', fontsize = 13);\n",
    "plt.ylabel('Avg Monthly Registration', fontsize = 13)"
   ]
  },
  {
   "cell_type": "markdown",
   "id": "df271166",
   "metadata": {
    "id": "df271166"
   },
   "source": [
    "#### Decomposing the Time Series and plotting the different components for dataset"
   ]
  },
  {
   "cell_type": "code",
   "execution_count": 36,
   "id": "6c8542bd",
   "metadata": {
    "id": "6c8542bd",
    "outputId": "3b6ff056-b281-4b8b-c72e-901d5ef6f13c"
   },
   "outputs": [
    {
     "ename": "ValueError",
     "evalue": "Multiplicative seasonality is not appropriate for zero and negative values",
     "output_type": "error",
     "traceback": [
      "\u001b[1;31m---------------------------------------------------------------------------\u001b[0m",
      "\u001b[1;31mValueError\u001b[0m                                Traceback (most recent call last)",
      "\u001b[1;32m~\\AppData\\Local\\Temp\\ipykernel_41512\\3599516399.py\u001b[0m in \u001b[0;36m<module>\u001b[1;34m\u001b[0m\n\u001b[1;32m----> 1\u001b[1;33m \u001b[0mdecomposition_dataset\u001b[0m \u001b[1;33m=\u001b[0m \u001b[0mseasonal_decompose\u001b[0m\u001b[1;33m(\u001b[0m\u001b[0mdataset\u001b[0m\u001b[1;33m,\u001b[0m\u001b[0mmodel\u001b[0m\u001b[1;33m=\u001b[0m\u001b[1;34m'multiplcative'\u001b[0m\u001b[1;33m)\u001b[0m\u001b[1;33m\u001b[0m\u001b[1;33m\u001b[0m\u001b[0m\n\u001b[0m\u001b[0;32m      2\u001b[0m \u001b[0mdecomposition_dataset\u001b[0m\u001b[1;33m.\u001b[0m\u001b[0mplot\u001b[0m\u001b[1;33m(\u001b[0m\u001b[1;33m)\u001b[0m\u001b[1;33m\u001b[0m\u001b[1;33m\u001b[0m\u001b[0m\n\u001b[0;32m      3\u001b[0m \u001b[0mplt\u001b[0m\u001b[1;33m.\u001b[0m\u001b[0mrcParams\u001b[0m\u001b[1;33m[\u001b[0m\u001b[1;34m'axes.labelsize'\u001b[0m\u001b[1;33m]\u001b[0m \u001b[1;33m=\u001b[0m \u001b[1;36m14\u001b[0m\u001b[1;33m\u001b[0m\u001b[1;33m\u001b[0m\u001b[0m\n\u001b[0;32m      4\u001b[0m \u001b[0mplt\u001b[0m\u001b[1;33m.\u001b[0m\u001b[0mrcParams\u001b[0m\u001b[1;33m[\u001b[0m\u001b[1;34m'axes.titlesize'\u001b[0m\u001b[1;33m]\u001b[0m \u001b[1;33m=\u001b[0m \u001b[1;36m14\u001b[0m\u001b[1;33m\u001b[0m\u001b[1;33m\u001b[0m\u001b[0m\n",
      "\u001b[1;32mC:\\ProgramData\\Anaconda3\\lib\\site-packages\\statsmodels\\tsa\\seasonal.py\u001b[0m in \u001b[0;36mseasonal_decompose\u001b[1;34m(x, model, filt, period, two_sided, extrapolate_trend)\u001b[0m\n\u001b[0;32m    147\u001b[0m     \u001b[1;32mif\u001b[0m \u001b[0mmodel\u001b[0m\u001b[1;33m.\u001b[0m\u001b[0mstartswith\u001b[0m\u001b[1;33m(\u001b[0m\u001b[1;34m\"m\"\u001b[0m\u001b[1;33m)\u001b[0m\u001b[1;33m:\u001b[0m\u001b[1;33m\u001b[0m\u001b[1;33m\u001b[0m\u001b[0m\n\u001b[0;32m    148\u001b[0m         \u001b[1;32mif\u001b[0m \u001b[0mnp\u001b[0m\u001b[1;33m.\u001b[0m\u001b[0many\u001b[0m\u001b[1;33m(\u001b[0m\u001b[0mx\u001b[0m \u001b[1;33m<=\u001b[0m \u001b[1;36m0\u001b[0m\u001b[1;33m)\u001b[0m\u001b[1;33m:\u001b[0m\u001b[1;33m\u001b[0m\u001b[1;33m\u001b[0m\u001b[0m\n\u001b[1;32m--> 149\u001b[1;33m             raise ValueError(\n\u001b[0m\u001b[0;32m    150\u001b[0m                 \u001b[1;34m\"Multiplicative seasonality is not appropriate \"\u001b[0m\u001b[1;33m\u001b[0m\u001b[1;33m\u001b[0m\u001b[0m\n\u001b[0;32m    151\u001b[0m                 \u001b[1;34m\"for zero and negative values\"\u001b[0m\u001b[1;33m\u001b[0m\u001b[1;33m\u001b[0m\u001b[0m\n",
      "\u001b[1;31mValueError\u001b[0m: Multiplicative seasonality is not appropriate for zero and negative values"
     ]
    }
   ],
   "source": [
    "decomposition_dataset = seasonal_decompose(dataset,model='multiplcative')\n",
    "decomposition_dataset.plot()\n",
    "plt.rcParams['axes.labelsize'] = 14\n",
    "plt.rcParams['axes.titlesize'] = 14\n"
   ]
  },
  {
   "cell_type": "code",
   "execution_count": 37,
   "id": "c225121f",
   "metadata": {
    "id": "c225121f",
    "outputId": "9ba4c775-d0d0-4eb0-8d46-9ea9224e59c7"
   },
   "outputs": [
    {
     "ename": "ValueError",
     "evalue": "freq N not understood. Please report if you think this is in error.",
     "output_type": "error",
     "traceback": [
      "\u001b[1;31m---------------------------------------------------------------------------\u001b[0m",
      "\u001b[1;31mValueError\u001b[0m                                Traceback (most recent call last)",
      "\u001b[1;32m~\\AppData\\Local\\Temp\\ipykernel_41512\\2493470595.py\u001b[0m in \u001b[0;36m<module>\u001b[1;34m\u001b[0m\n\u001b[1;32m----> 1\u001b[1;33m \u001b[0mdecomposition_dataset\u001b[0m \u001b[1;33m=\u001b[0m \u001b[0mseasonal_decompose\u001b[0m\u001b[1;33m(\u001b[0m\u001b[0mdataset\u001b[0m\u001b[1;33m,\u001b[0m\u001b[0mmodel\u001b[0m\u001b[1;33m=\u001b[0m\u001b[1;34m'additive'\u001b[0m\u001b[1;33m)\u001b[0m\u001b[1;33m\u001b[0m\u001b[1;33m\u001b[0m\u001b[0m\n\u001b[0m\u001b[0;32m      2\u001b[0m \u001b[0mdecomposition_dataset\u001b[0m\u001b[1;33m.\u001b[0m\u001b[0mplot\u001b[0m\u001b[1;33m(\u001b[0m\u001b[1;33m)\u001b[0m\u001b[1;33m\u001b[0m\u001b[1;33m\u001b[0m\u001b[0m\n\u001b[0;32m      3\u001b[0m \u001b[0mplt\u001b[0m\u001b[1;33m.\u001b[0m\u001b[0mrcParams\u001b[0m\u001b[1;33m[\u001b[0m\u001b[1;34m'axes.labelsize'\u001b[0m\u001b[1;33m]\u001b[0m \u001b[1;33m=\u001b[0m \u001b[1;36m14\u001b[0m\u001b[1;33m\u001b[0m\u001b[1;33m\u001b[0m\u001b[0m\n\u001b[0;32m      4\u001b[0m \u001b[0mplt\u001b[0m\u001b[1;33m.\u001b[0m\u001b[0mrcParams\u001b[0m\u001b[1;33m[\u001b[0m\u001b[1;34m'axes.titlesize'\u001b[0m\u001b[1;33m]\u001b[0m \u001b[1;33m=\u001b[0m \u001b[1;36m14\u001b[0m\u001b[1;33m\u001b[0m\u001b[1;33m\u001b[0m\u001b[0m\n",
      "\u001b[1;32mC:\\ProgramData\\Anaconda3\\lib\\site-packages\\statsmodels\\tsa\\seasonal.py\u001b[0m in \u001b[0;36mseasonal_decompose\u001b[1;34m(x, model, filt, period, two_sided, extrapolate_trend)\u001b[0m\n\u001b[0;32m    154\u001b[0m     \u001b[1;32mif\u001b[0m \u001b[0mperiod\u001b[0m \u001b[1;32mis\u001b[0m \u001b[1;32mNone\u001b[0m\u001b[1;33m:\u001b[0m\u001b[1;33m\u001b[0m\u001b[1;33m\u001b[0m\u001b[0m\n\u001b[0;32m    155\u001b[0m         \u001b[1;32mif\u001b[0m \u001b[0mpfreq\u001b[0m \u001b[1;32mis\u001b[0m \u001b[1;32mnot\u001b[0m \u001b[1;32mNone\u001b[0m\u001b[1;33m:\u001b[0m\u001b[1;33m\u001b[0m\u001b[1;33m\u001b[0m\u001b[0m\n\u001b[1;32m--> 156\u001b[1;33m             \u001b[0mpfreq\u001b[0m \u001b[1;33m=\u001b[0m \u001b[0mfreq_to_period\u001b[0m\u001b[1;33m(\u001b[0m\u001b[0mpfreq\u001b[0m\u001b[1;33m)\u001b[0m\u001b[1;33m\u001b[0m\u001b[1;33m\u001b[0m\u001b[0m\n\u001b[0m\u001b[0;32m    157\u001b[0m             \u001b[0mperiod\u001b[0m \u001b[1;33m=\u001b[0m \u001b[0mpfreq\u001b[0m\u001b[1;33m\u001b[0m\u001b[1;33m\u001b[0m\u001b[0m\n\u001b[0;32m    158\u001b[0m         \u001b[1;32melse\u001b[0m\u001b[1;33m:\u001b[0m\u001b[1;33m\u001b[0m\u001b[1;33m\u001b[0m\u001b[0m\n",
      "\u001b[1;32mC:\\ProgramData\\Anaconda3\\lib\\site-packages\\statsmodels\\tsa\\tsatools.py\u001b[0m in \u001b[0;36mfreq_to_period\u001b[1;34m(freq)\u001b[0m\n\u001b[0;32m    811\u001b[0m         \u001b[1;32mreturn\u001b[0m \u001b[1;36m24\u001b[0m\u001b[1;33m\u001b[0m\u001b[1;33m\u001b[0m\u001b[0m\n\u001b[0;32m    812\u001b[0m     \u001b[1;32melse\u001b[0m\u001b[1;33m:\u001b[0m  \u001b[1;31m# pragma : no cover\u001b[0m\u001b[1;33m\u001b[0m\u001b[1;33m\u001b[0m\u001b[0m\n\u001b[1;32m--> 813\u001b[1;33m         raise ValueError(\n\u001b[0m\u001b[0;32m    814\u001b[0m             \u001b[1;34m\"freq {} not understood. Please report if you \"\u001b[0m\u001b[1;33m\u001b[0m\u001b[1;33m\u001b[0m\u001b[0m\n\u001b[0;32m    815\u001b[0m             \u001b[1;34m\"think this is in error.\"\u001b[0m\u001b[1;33m.\u001b[0m\u001b[0mformat\u001b[0m\u001b[1;33m(\u001b[0m\u001b[0mfreq\u001b[0m\u001b[1;33m)\u001b[0m\u001b[1;33m\u001b[0m\u001b[1;33m\u001b[0m\u001b[0m\n",
      "\u001b[1;31mValueError\u001b[0m: freq N not understood. Please report if you think this is in error."
     ]
    }
   ],
   "source": [
    "decomposition_dataset = seasonal_decompose(dataset,model='additive')\n",
    "decomposition_dataset.plot()\n",
    "plt.rcParams['axes.labelsize'] = 14\n",
    "plt.rcParams['axes.titlesize'] = 14"
   ]
  },
  {
   "cell_type": "code",
   "execution_count": null,
   "id": "e577577a",
   "metadata": {
    "id": "e577577a",
    "outputId": "00137bca-b92f-461e-8784-24ea0f454424"
   },
   "outputs": [],
   "source": [
    "print('Trend','\\n',decomposition_dataset.trend.head(8),'\\n')\n",
    "print('Seasonality','\\n',decomposition_dataset.seasonal.head(8),'\\n')\n",
    "print('Residual','\\n',decomposition_dataset.resid.head(8),'\\n')"
   ]
  },
  {
   "cell_type": "markdown",
   "id": "7a0be51f",
   "metadata": {
    "id": "7a0be51f"
   },
   "source": [
    "#### Splitting the dataset into training and test into 70:30"
   ]
  },
  {
   "cell_type": "code",
   "execution_count": 38,
   "id": "b13e9c5d",
   "metadata": {
    "id": "b13e9c5d"
   },
   "outputs": [],
   "source": [
    "train_dataset =  dataset[0:int(len(dataset)*0.7)] \n",
    "test_dataset = dataset[int(len(dataset)*0.7):]"
   ]
  },
  {
   "cell_type": "code",
   "execution_count": 39,
   "id": "3c3e8707",
   "metadata": {
    "colab": {
     "base_uri": "https://localhost:8080/"
    },
    "id": "3c3e8707",
    "outputId": "db2f79fa-6fe3-4b82-df76-a4774f8612c1"
   },
   "outputs": [
    {
     "name": "stdout",
     "output_type": "stream",
     "text": [
      "train_dataset_shape (1353, 1)\n",
      "<bound method NDFrame.head of                                                  x\n",
      "1970-01-01 00:00:00.000000000  1043971200000000000\n",
      "1970-01-01 00:00:00.000000001  1046390400000000000\n",
      "1970-01-01 00:00:00.000000002  1049068800000000000\n",
      "1970-01-01 00:00:00.000000003  1051660800000000000\n",
      "1970-01-01 00:00:00.000000004  1054339200000000000\n",
      "...                                            ...\n",
      "1970-01-01 00:00:00.000001348 -9223372036854775808\n",
      "1970-01-01 00:00:00.000001349 -9223372036854775808\n",
      "1970-01-01 00:00:00.000001350 -9223372036854775808\n",
      "1970-01-01 00:00:00.000001351 -9223372036854775808\n",
      "1970-01-01 00:00:00.000001352 -9223372036854775808\n",
      "\n",
      "[1353 rows x 1 columns]>\n",
      "test_dataset_shape (580, 1)\n",
      "<bound method NDFrame.head of                                                  x\n",
      "1970-01-01 00:00:00.000001353 -9223372036854775808\n",
      "1970-01-01 00:00:00.000001354 -9223372036854775808\n",
      "1970-01-01 00:00:00.000001355 -9223372036854775808\n",
      "1970-01-01 00:00:00.000001356 -9223372036854775808\n",
      "1970-01-01 00:00:00.000001357 -9223372036854775808\n",
      "...                                            ...\n",
      "1970-01-01 00:00:00.000001928 -9223372036854775808\n",
      "1970-01-01 00:00:00.000001929 -9223372036854775808\n",
      "1970-01-01 00:00:00.000001930 -9223372036854775808\n",
      "1970-01-01 00:00:00.000001931 -9223372036854775808\n",
      "1970-01-01 00:00:00.000001932 -9223372036854775808\n",
      "\n",
      "[580 rows x 1 columns]>\n"
     ]
    }
   ],
   "source": [
    "print('train_dataset_shape',train_dataset.shape)\n",
    "print(train_dataset.head)\n",
    "print('test_dataset_shape',test_dataset.shape)\n",
    "print(test_dataset.head)"
   ]
  },
  {
   "cell_type": "markdown",
   "id": "6551f493",
   "metadata": {
    "id": "6551f493"
   },
   "source": [
    "#### Building various exponential smoothing models on the training dataset and evaluate the model using RMSE on the test dataset"
   ]
  },
  {
   "cell_type": "markdown",
   "id": "b92e2e64",
   "metadata": {},
   "source": [
    "#### Naive Approach"
   ]
  },
  {
   "cell_type": "code",
   "execution_count": 40,
   "id": "080d1395",
   "metadata": {
    "id": "080d1395"
   },
   "outputs": [],
   "source": [
    "NaiveModel_train = train_dataset.copy()\n",
    "NaiveModel_test = test_dataset.copy()"
   ]
  },
  {
   "cell_type": "code",
   "execution_count": 41,
   "id": "575f38aa",
   "metadata": {
    "colab": {
     "base_uri": "https://localhost:8080/"
    },
    "id": "575f38aa",
    "outputId": "8c339b28-6c8c-4cd4-d7f0-e0ccbf56b82b"
   },
   "outputs": [
    {
     "data": {
      "text/plain": [
       "1970-01-01 00:00:00.000000000   -9223372036854775808\n",
       "1970-01-01 00:00:00.000000001   -9223372036854775808\n",
       "1970-01-01 00:00:00.000000002   -9223372036854775808\n",
       "1970-01-01 00:00:00.000000003   -9223372036854775808\n",
       "1970-01-01 00:00:00.000000004   -9223372036854775808\n",
       "Name: naive, dtype: int64"
      ]
     },
     "execution_count": 41,
     "metadata": {},
     "output_type": "execute_result"
    }
   ],
   "source": [
    "## Let us get the last value (or the most recent value) of the training set.\n",
    "\n",
    "NaiveModel_train['naive'] = np.asarray(train_dataset['x'])[len(np.asarray(train_dataset['x']))-1]\n",
    "NaiveModel_train['naive'].head()"
   ]
  },
  {
   "cell_type": "code",
   "execution_count": 42,
   "id": "7c02f6b9",
   "metadata": {
    "colab": {
     "base_uri": "https://localhost:8080/"
    },
    "id": "7c02f6b9",
    "outputId": "f05dbbaa-558d-4c36-af08-262d8a32f7bd"
   },
   "outputs": [
    {
     "data": {
      "text/plain": [
       "1970-01-01 00:00:00.000001353   -9223372036854775808\n",
       "1970-01-01 00:00:00.000001354   -9223372036854775808\n",
       "1970-01-01 00:00:00.000001355   -9223372036854775808\n",
       "1970-01-01 00:00:00.000001356   -9223372036854775808\n",
       "1970-01-01 00:00:00.000001357   -9223372036854775808\n",
       "Name: naive, dtype: int64"
      ]
     },
     "execution_count": 42,
     "metadata": {},
     "output_type": "execute_result"
    }
   ],
   "source": [
    "NaiveModel_test['naive'] = np.asarray(train_dataset['x'])[len(np.asarray(train_dataset['x']))-1]\n",
    "NaiveModel_test['naive'].head()"
   ]
  },
  {
   "cell_type": "code",
   "execution_count": 43,
   "id": "e0363e6a",
   "metadata": {
    "id": "e0363e6a",
    "outputId": "f5e7f147-2e26-461f-8b14-1933de651089"
   },
   "outputs": [
    {
     "data": {
      "image/png": "[encoded data removed]",
      "text/plain": [
       "<Figure size 1000x800 with 1 Axes>"
      ]
     },
     "metadata": {},
     "output_type": "display_data"
    }
   ],
   "source": [
    "plt.figure(figsize=(10,8))\n",
    "plt.plot(NaiveModel_train['x'], label='Train')\n",
    "plt.plot(test_dataset['x'], label='Test')\n",
    "plt.plot(NaiveModel_train['naive'], label='Naive Forecast on Training Data')\n",
    "plt.plot(NaiveModel_test['naive'], label='Naive Forecast on Test Data')\n",
    "plt.legend(loc='best')\n",
    "plt.title(\"Naive Forecast\")\n",
    "plt.rcParams['axes.labelsize'] = 15\n",
    "plt.rcParams['axes.titlesize'] = 15\n",
    "plt.legend(fontsize=\"x-large\")\n",
    "plt.grid()"
   ]
  },
  {
   "cell_type": "code",
   "execution_count": 44,
   "id": "3412b2f2",
   "metadata": {
    "id": "3412b2f2"
   },
   "outputs": [],
   "source": [
    "## Mean Absolute Percentage Error - Function Definition\n",
    "\n",
    "def MAPE(y, yhat): \n",
    "    y, yhat = np.array(y), np.array(yhat)\n",
    "    try:\n",
    "        mape =  round(np.sum(np.abs(yhat - y)) / np.sum(y) * 100,2)\n",
    "    except:\n",
    "        print(\"Observed values are empty\")\n",
    "        mape = np.nan\n",
    "    return mape"
   ]
  },
  {
   "cell_type": "code",
   "execution_count": 46,
   "id": "ba083a99",
   "metadata": {
    "colab": {
     "base_uri": "https://localhost:8080/"
    },
    "id": "ba083a99",
    "outputId": "6431fde3-064c-4425-cb1e-8f07ab137ab6"
   },
   "outputs": [
    {
     "name": "stdout",
     "output_type": "stream",
     "text": [
      "For Naive Model forecast on the Training Data,  RMSE is nan MAPE is 165.32\n"
     ]
    }
   ],
   "source": [
    "## Training Data - RMSE and MAPE\n",
    "\n",
    "rmse_model1_train = metrics.mean_squared_error(train_dataset['x'],NaiveModel_train['naive'],squared=False)\n",
    "mape_model1_train = MAPE(train_dataset['x'],NaiveModel_train['naive'])\n",
    "print(\"For Naive Model forecast on the Training Data,  RMSE is %3.3f MAPE is %3.2f\" %(rmse_model1_train, mape_model1_train))"
   ]
  },
  {
   "cell_type": "code",
   "execution_count": 48,
   "id": "215a2ab9",
   "metadata": {
    "colab": {
     "base_uri": "https://localhost:8080/"
    },
    "id": "215a2ab9",
    "outputId": "b11e8372-d95f-4f7e-a1da-34696c139f29"
   },
   "outputs": [
    {
     "name": "stdout",
     "output_type": "stream",
     "text": [
      "For Naive Model forecast on the Test Data,  RMSE is 0.000 MAPE is nan\n"
     ]
    }
   ],
   "source": [
    "## Test Data - RMSE and MAPE\n",
    "\n",
    "rmse_model1_test = metrics.mean_squared_error(test_dataset['x'],NaiveModel_test['naive'],squared=False)\n",
    "mape_model1_test = MAPE(test_dataset['x'],NaiveModel_test['naive'])\n",
    "print(\"For Naive Model forecast on the Test Data,  RMSE is %3.3f MAPE is %3.2f\" %(rmse_model1_test, mape_model1_test))"
   ]
  },
  {
   "cell_type": "code",
   "execution_count": 49,
   "id": "1d2a7ec0",
   "metadata": {
    "colab": {
     "base_uri": "https://localhost:8080/",
     "height": 81
    },
    "id": "1d2a7ec0",
    "outputId": "1a1df572-60bf-4643-e043-3c16acb3a422"
   },
   "outputs": [
    {
     "data": {
      "text/html": [
       "<div>\n",
       "<style scoped>\n",
       "    .dataframe tbody tr th:only-of-type {\n",
       "        vertical-align: middle;\n",
       "    }\n",
       "\n",
       "    .dataframe tbody tr th {\n",
       "        vertical-align: top;\n",
       "    }\n",
       "\n",
       "    .dataframe thead th {\n",
       "        text-align: right;\n",
       "    }\n",
       "</style>\n",
       "<table border=\"1\" class=\"dataframe\">\n",
       "  <thead>\n",
       "    <tr style=\"text-align: right;\">\n",
       "      <th></th>\n",
       "      <th>Model</th>\n",
       "      <th>Test RMSE</th>\n",
       "      <th>Test MAPE</th>\n",
       "    </tr>\n",
       "  </thead>\n",
       "  <tbody>\n",
       "    <tr>\n",
       "      <th>Model 1</th>\n",
       "      <td>NaiveModel</td>\n",
       "      <td>0.0</td>\n",
       "      <td>NaN</td>\n",
       "    </tr>\n",
       "  </tbody>\n",
       "</table>\n",
       "</div>"
      ],
      "text/plain": [
       "              Model  Test RMSE  Test MAPE\n",
       "Model 1  NaiveModel        0.0        NaN"
      ]
     },
     "execution_count": 49,
     "metadata": {},
     "output_type": "execute_result"
    }
   ],
   "source": [
    "resultsDf_1_dataset = pd.DataFrame({'Model': 'NaiveModel', \n",
    "                                                      \n",
    "                            'Test RMSE': [rmse_model1_test],\n",
    "                            'Test MAPE': [mape_model1_test]},index=['Model 1'])\n",
    "\n",
    "resultsDf_1_dataset"
   ]
  },
  {
   "cell_type": "markdown",
   "id": "3e3e4b6e",
   "metadata": {},
   "source": [
    "#### moving average"
   ]
  },
  {
   "cell_type": "code",
   "execution_count": 50,
   "id": "bf469933",
   "metadata": {
    "colab": {
     "base_uri": "https://localhost:8080/",
     "height": 238
    },
    "id": "bf469933",
    "outputId": "8b483e28-6562-473f-92f3-3c7f3d1045a8"
   },
   "outputs": [
    {
     "data": {
      "text/html": [
       "<div>\n",
       "<style scoped>\n",
       "    .dataframe tbody tr th:only-of-type {\n",
       "        vertical-align: middle;\n",
       "    }\n",
       "\n",
       "    .dataframe tbody tr th {\n",
       "        vertical-align: top;\n",
       "    }\n",
       "\n",
       "    .dataframe thead th {\n",
       "        text-align: right;\n",
       "    }\n",
       "</style>\n",
       "<table border=\"1\" class=\"dataframe\">\n",
       "  <thead>\n",
       "    <tr style=\"text-align: right;\">\n",
       "      <th></th>\n",
       "      <th>x</th>\n",
       "    </tr>\n",
       "  </thead>\n",
       "  <tbody>\n",
       "    <tr>\n",
       "      <th>1970-01-01 00:00:00.000000000</th>\n",
       "      <td>1043971200000000000</td>\n",
       "    </tr>\n",
       "    <tr>\n",
       "      <th>1970-01-01 00:00:00.000000001</th>\n",
       "      <td>1046390400000000000</td>\n",
       "    </tr>\n",
       "    <tr>\n",
       "      <th>1970-01-01 00:00:00.000000002</th>\n",
       "      <td>1049068800000000000</td>\n",
       "    </tr>\n",
       "    <tr>\n",
       "      <th>1970-01-01 00:00:00.000000003</th>\n",
       "      <td>1051660800000000000</td>\n",
       "    </tr>\n",
       "    <tr>\n",
       "      <th>1970-01-01 00:00:00.000000004</th>\n",
       "      <td>1054339200000000000</td>\n",
       "    </tr>\n",
       "  </tbody>\n",
       "</table>\n",
       "</div>"
      ],
      "text/plain": [
       "                                                 x\n",
       "1970-01-01 00:00:00.000000000  1043971200000000000\n",
       "1970-01-01 00:00:00.000000001  1046390400000000000\n",
       "1970-01-01 00:00:00.000000002  1049068800000000000\n",
       "1970-01-01 00:00:00.000000003  1051660800000000000\n",
       "1970-01-01 00:00:00.000000004  1054339200000000000"
      ]
     },
     "execution_count": 50,
     "metadata": {},
     "output_type": "execute_result"
    }
   ],
   "source": [
    "MovingAverage = dataset.copy()\n",
    "MovingAverage.head()"
   ]
  },
  {
   "cell_type": "code",
   "execution_count": 52,
   "id": "72158245",
   "metadata": {
    "colab": {
     "base_uri": "https://localhost:8080/",
     "height": 238
    },
    "id": "72158245",
    "outputId": "c1aae831-60d1-4198-ad80-25f2cab55bec"
   },
   "outputs": [
    {
     "data": {
      "text/html": [
       "<div>\n",
       "<style scoped>\n",
       "    .dataframe tbody tr th:only-of-type {\n",
       "        vertical-align: middle;\n",
       "    }\n",
       "\n",
       "    .dataframe tbody tr th {\n",
       "        vertical-align: top;\n",
       "    }\n",
       "\n",
       "    .dataframe thead th {\n",
       "        text-align: right;\n",
       "    }\n",
       "</style>\n",
       "<table border=\"1\" class=\"dataframe\">\n",
       "  <thead>\n",
       "    <tr style=\"text-align: right;\">\n",
       "      <th></th>\n",
       "      <th>x</th>\n",
       "      <th>Trailing1_2</th>\n",
       "      <th>Trailing1_4</th>\n",
       "      <th>Trailing1_6</th>\n",
       "      <th>Trailing1_8</th>\n",
       "    </tr>\n",
       "  </thead>\n",
       "  <tbody>\n",
       "    <tr>\n",
       "      <th>1970-01-01 00:00:00.000000000</th>\n",
       "      <td>1043971200000000000</td>\n",
       "      <td>NaN</td>\n",
       "      <td>NaN</td>\n",
       "      <td>NaN</td>\n",
       "      <td>NaN</td>\n",
       "    </tr>\n",
       "    <tr>\n",
       "      <th>1970-01-01 00:00:00.000000001</th>\n",
       "      <td>1046390400000000000</td>\n",
       "      <td>1.045181e+18</td>\n",
       "      <td>NaN</td>\n",
       "      <td>NaN</td>\n",
       "      <td>NaN</td>\n",
       "    </tr>\n",
       "    <tr>\n",
       "      <th>1970-01-01 00:00:00.000000002</th>\n",
       "      <td>1049068800000000000</td>\n",
       "      <td>1.047730e+18</td>\n",
       "      <td>NaN</td>\n",
       "      <td>NaN</td>\n",
       "      <td>NaN</td>\n",
       "    </tr>\n",
       "    <tr>\n",
       "      <th>1970-01-01 00:00:00.000000003</th>\n",
       "      <td>1051660800000000000</td>\n",
       "      <td>1.050365e+18</td>\n",
       "      <td>1.047773e+18</td>\n",
       "      <td>NaN</td>\n",
       "      <td>NaN</td>\n",
       "    </tr>\n",
       "    <tr>\n",
       "      <th>1970-01-01 00:00:00.000000004</th>\n",
       "      <td>1054339200000000000</td>\n",
       "      <td>1.053000e+18</td>\n",
       "      <td>1.050365e+18</td>\n",
       "      <td>NaN</td>\n",
       "      <td>NaN</td>\n",
       "    </tr>\n",
       "  </tbody>\n",
       "</table>\n",
       "</div>"
      ],
      "text/plain": [
       "                                                 x   Trailing1_2  \\\n",
       "1970-01-01 00:00:00.000000000  1043971200000000000           NaN   \n",
       "1970-01-01 00:00:00.000000001  1046390400000000000  1.045181e+18   \n",
       "1970-01-01 00:00:00.000000002  1049068800000000000  1.047730e+18   \n",
       "1970-01-01 00:00:00.000000003  1051660800000000000  1.050365e+18   \n",
       "1970-01-01 00:00:00.000000004  1054339200000000000  1.053000e+18   \n",
       "\n",
       "                                Trailing1_4  Trailing1_6  Trailing1_8  \n",
       "1970-01-01 00:00:00.000000000           NaN          NaN          NaN  \n",
       "1970-01-01 00:00:00.000000001           NaN          NaN          NaN  \n",
       "1970-01-01 00:00:00.000000002           NaN          NaN          NaN  \n",
       "1970-01-01 00:00:00.000000003  1.047773e+18          NaN          NaN  \n",
       "1970-01-01 00:00:00.000000004  1.050365e+18          NaN          NaN  "
      ]
     },
     "execution_count": 52,
     "metadata": {},
     "output_type": "execute_result"
    }
   ],
   "source": [
    "MovingAverage['Trailing1_2'] = MovingAverage['x'].rolling(2).mean()\n",
    "MovingAverage['Trailing1_4'] = MovingAverage['x'].rolling(4).mean()\n",
    "MovingAverage['Trailing1_6'] = MovingAverage['x'].rolling(6).mean()\n",
    "MovingAverage['Trailing1_8'] = MovingAverage['x'].rolling(8).mean()\n",
    "MovingAverage.head()"
   ]
  },
  {
   "cell_type": "code",
   "execution_count": 53,
   "id": "f12121eb",
   "metadata": {
    "id": "f12121eb",
    "outputId": "007c2ebb-801d-4131-82af-5c96ea4cf0ef"
   },
   "outputs": [
    {
     "data": {
      "image/png": "[encoded data removed]",
      "text/plain": [
       "<Figure size 1500x800 with 1 Axes>"
      ]
     },
     "metadata": {},
     "output_type": "display_data"
    }
   ],
   "source": [
    "## Plotting on the whole data\n",
    "\n",
    "plt.figure(figsize=(15,8))\n",
    "plt.plot(MovingAverage['x'], label='Train')\n",
    "plt.plot(MovingAverage['Trailing1_2'], label='2 Point Moving Average')\n",
    "plt.plot(MovingAverage['Trailing1_4'], label='4 Point Moving Average')\n",
    "plt.plot(MovingAverage['Trailing1_6'],label = '6 Point Moving Average')\n",
    "plt.plot(MovingAverage['Trailing1_8'],label = '8 Point Moving Average')\n",
    "plt.rcParams['axes.labelsize'] = 15\n",
    "plt.rcParams['axes.titlesize'] = 15\n",
    "plt.legend(loc = 'best')\n",
    "plt.legend(fontsize=\"xx-large\")\n",
    "plt.grid()"
   ]
  },
  {
   "cell_type": "code",
   "execution_count": 54,
   "id": "09ab9fdb",
   "metadata": {
    "id": "09ab9fdb"
   },
   "outputs": [],
   "source": [
    "#Creating train and test set \n",
    "trailing_MovingAverage_train=MovingAverage[0:int(len(dataset)*0.7)] \n",
    "trailing_MovingAverage_test=MovingAverage[int(len(dataset)*0.7):]"
   ]
  },
  {
   "cell_type": "code",
   "execution_count": 56,
   "id": "48cf7582",
   "metadata": {
    "colab": {
     "base_uri": "https://localhost:8080/",
     "height": 483
    },
    "id": "48cf7582",
    "outputId": "18fcc663-fbc8-4612-a606-d4b3e95b764e"
   },
   "outputs": [
    {
     "data": {
      "image/png": "[encoded data removed]",
      "text/plain": [
       "<Figure size 1500x800 with 1 Axes>"
      ]
     },
     "metadata": {},
     "output_type": "display_data"
    }
   ],
   "source": [
    "## Plotting on both the Training and Test data\n",
    "\n",
    "plt.figure(figsize=(15,8))\n",
    "plt.plot(trailing_MovingAverage_train['x'], label='Train')\n",
    "plt.plot(trailing_MovingAverage_test['x'], label='Test')\n",
    "\n",
    "plt.plot(trailing_MovingAverage_train['Trailing1_2'], label='2 Point Trailing Moving Average on Training Set')\n",
    "plt.plot(trailing_MovingAverage_train['Trailing1_4'], label='4 Point Trailing Moving Average on Training Set')\n",
    "plt.plot(trailing_MovingAverage_train['Trailing1_6'],label = '6 Point Trailing Moving Average on Training Set')\n",
    "plt.plot(trailing_MovingAverage_train['Trailing1_8'],label = '8 Point Trailing Moving Average on Training Set')\n",
    "\n",
    "plt.plot(trailing_MovingAverage_test['Trailing1_2'], label='2 Point Trailing Moving Average on Test Set')\n",
    "plt.plot(trailing_MovingAverage_test['Trailing1_4'], label='4 Point Trailing Moving Average on Test Set')\n",
    "plt.plot(trailing_MovingAverage_test['Trailing1_6'],label = '6 Point Trailing Moving Average on Test Set')\n",
    "plt.plot(trailing_MovingAverage_test['Trailing1_8'],label = '8 Point Trailing Moving Average on Test Set')\n",
    "\n",
    "plt.rcParams['axes.labelsize'] = 15\n",
    "plt.rcParams['axes.titlesize'] = 15\n",
    "plt.legend(loc = 'best')\n",
    "plt.legend(fontsize=\"xx-large\")\n",
    "plt.grid()"
   ]
  },
  {
   "cell_type": "code",
   "execution_count": 57,
   "id": "b00aa3f0",
   "metadata": {
    "colab": {
     "base_uri": "https://localhost:8080/"
    },
    "id": "b00aa3f0",
    "outputId": "4dd74869-ff34-4c35-c39b-652e154523c0"
   },
   "outputs": [
    {
     "name": "stdout",
     "output_type": "stream",
     "text": [
      "For 2 point Moving Average Model forecast on the Training Data,  RMSE is 0.000 MAPE is nan\n",
      "For 4 point Moving Average Model forecast on the Training Data,  RMSE is 0.000 MAPE is nan\n",
      "For 6 point Moving Average Model forecast on the Training Data,  RMSE is 0.000 MAPE is nan\n",
      "For 8 point Moving Average Model forecast on the Training Data,  RMSE is 0.000 MAPE is nan\n"
     ]
    }
   ],
   "source": [
    "## Test Data - RMSE and MAPE --> 2 point Trailing MA\n",
    "\n",
    "rmse_model2_test_2 = metrics.mean_squared_error(test_dataset['x'],trailing_MovingAverage_test['Trailing1_2'],squared=False)\n",
    "mape_model2_test_2 = MAPE(test_dataset['x'],trailing_MovingAverage_test['Trailing1_2'])\n",
    "print(\"For 2 point Moving Average Model forecast on the Training Data,  RMSE is %3.3f MAPE is %3.2f\" %(rmse_model2_test_2, mape_model2_test_2))\n",
    "\n",
    "## Test Data - RMSE and MAPE --> 4 point Trailing MA\n",
    "\n",
    "rmse_model2_test_4 = metrics.mean_squared_error(test_dataset['x'],trailing_MovingAverage_test['Trailing1_4'],squared=False)\n",
    "mape_model2_test_4 = MAPE(test_dataset['x'],trailing_MovingAverage_test['Trailing1_4'])\n",
    "print(\"For 4 point Moving Average Model forecast on the Training Data,  RMSE is %3.3f MAPE is %3.2f\" %(rmse_model2_test_4, mape_model2_test_4))\n",
    "\n",
    "## Test Data - RMSE and MAPE --> 6 point Trailing MA\n",
    "\n",
    "rmse_model2_test_6 = metrics.mean_squared_error(test_dataset['x'],trailing_MovingAverage_test['Trailing1_6'],squared=False)\n",
    "mape_model2_test_6 = MAPE(test_dataset['x'],trailing_MovingAverage_test['Trailing1_6'])\n",
    "print(\"For 6 point Moving Average Model forecast on the Training Data,  RMSE is %3.3f MAPE is %3.2f\" %(rmse_model2_test_6, mape_model2_test_6))\n",
    "\n",
    "## Test Data - RMSE and MAPE --> 8 point Trailing MA\n",
    "\n",
    "rmse_model2_test_8 = metrics.mean_squared_error(test_dataset['x'],trailing_MovingAverage_test['Trailing1_8'],squared=False)\n",
    "mape_model2_test_8 = MAPE(test_dataset['x'],trailing_MovingAverage_test['Trailing1_8'])\n",
    "print(\"For 8 point Moving Average Model forecast on the Training Data,  RMSE is %3.3f MAPE is %3.2f\" %(rmse_model2_test_8, mape_model2_test_8))"
   ]
  },
  {
   "cell_type": "code",
   "execution_count": 58,
   "id": "d4080ec0",
   "metadata": {
    "colab": {
     "base_uri": "https://localhost:8080/",
     "height": 206
    },
    "id": "d4080ec0",
    "outputId": "2123447a-e069-41bf-9502-cb793aed993d"
   },
   "outputs": [
    {
     "data": {
      "text/html": [
       "<div>\n",
       "<style scoped>\n",
       "    .dataframe tbody tr th:only-of-type {\n",
       "        vertical-align: middle;\n",
       "    }\n",
       "\n",
       "    .dataframe tbody tr th {\n",
       "        vertical-align: top;\n",
       "    }\n",
       "\n",
       "    .dataframe thead th {\n",
       "        text-align: right;\n",
       "    }\n",
       "</style>\n",
       "<table border=\"1\" class=\"dataframe\">\n",
       "  <thead>\n",
       "    <tr style=\"text-align: right;\">\n",
       "      <th></th>\n",
       "      <th>Model</th>\n",
       "      <th>Test RMSE</th>\n",
       "      <th>Test MAPE</th>\n",
       "    </tr>\n",
       "  </thead>\n",
       "  <tbody>\n",
       "    <tr>\n",
       "      <th>Model 1</th>\n",
       "      <td>NaiveModel</td>\n",
       "      <td>0.0</td>\n",
       "      <td>NaN</td>\n",
       "    </tr>\n",
       "    <tr>\n",
       "      <th>Model 2.1</th>\n",
       "      <td>2pointTrailingMovingAverage</td>\n",
       "      <td>0.0</td>\n",
       "      <td>NaN</td>\n",
       "    </tr>\n",
       "    <tr>\n",
       "      <th>Model 2.2</th>\n",
       "      <td>4pointTrailingMovingAverage</td>\n",
       "      <td>0.0</td>\n",
       "      <td>NaN</td>\n",
       "    </tr>\n",
       "    <tr>\n",
       "      <th>Model 2.3</th>\n",
       "      <td>6pointTrailingMovingAverage</td>\n",
       "      <td>0.0</td>\n",
       "      <td>NaN</td>\n",
       "    </tr>\n",
       "    <tr>\n",
       "      <th>Model 2.4</th>\n",
       "      <td>8pointTrailingMovingAverage</td>\n",
       "      <td>0.0</td>\n",
       "      <td>NaN</td>\n",
       "    </tr>\n",
       "  </tbody>\n",
       "</table>\n",
       "</div>"
      ],
      "text/plain": [
       "                                 Model  Test RMSE  Test MAPE\n",
       "Model 1                     NaiveModel        0.0        NaN\n",
       "Model 2.1  2pointTrailingMovingAverage        0.0        NaN\n",
       "Model 2.2  4pointTrailingMovingAverage        0.0        NaN\n",
       "Model 2.3  6pointTrailingMovingAverage        0.0        NaN\n",
       "Model 2.4  8pointTrailingMovingAverage        0.0        NaN"
      ]
     },
     "execution_count": 58,
     "metadata": {},
     "output_type": "execute_result"
    }
   ],
   "source": [
    "resultsDf_2_dataset = pd.DataFrame({'Model': ['2pointTrailingMovingAverage','4pointTrailingMovingAverage'\n",
    "                                   ,'6pointTrailingMovingAverage','8pointTrailingMovingAverage'],    \n",
    "                            'Test RMSE': [rmse_model2_test_2,rmse_model2_test_4\n",
    "                                          ,rmse_model2_test_6,rmse_model2_test_8]\n",
    "                            ,'Test MAPE': [mape_model2_test_2,mape_model2_test_4,mape_model2_test_6\n",
    "                                           ,mape_model2_test_8]}\n",
    "                           ,index=['Model 2.1','Model 2.2'\n",
    "                                   ,'Model 2.3','Model 2.4'])\n",
    "\n",
    "resultsDf_dataset = pd.concat([resultsDf_1_dataset, resultsDf_2_dataset])\n",
    "resultsDf_dataset"
   ]
  },
  {
   "cell_type": "markdown",
   "id": "b12c359a",
   "metadata": {},
   "source": [
    "#### simple average"
   ]
  },
  {
   "cell_type": "code",
   "execution_count": 59,
   "id": "4d4c00e9",
   "metadata": {
    "id": "4d4c00e9"
   },
   "outputs": [],
   "source": [
    "SimpleAverage_train = train_dataset.copy()\n",
    "SimpleAverage_test = test_dataset.copy()"
   ]
  },
  {
   "cell_type": "code",
   "execution_count": 60,
   "id": "dcfcb6fb",
   "metadata": {
    "colab": {
     "base_uri": "https://localhost:8080/",
     "height": 238
    },
    "id": "dcfcb6fb",
    "outputId": "d1607efe-e703-4b81-ec96-0d44dbed02f1"
   },
   "outputs": [
    {
     "data": {
      "text/html": [
       "<div>\n",
       "<style scoped>\n",
       "    .dataframe tbody tr th:only-of-type {\n",
       "        vertical-align: middle;\n",
       "    }\n",
       "\n",
       "    .dataframe tbody tr th {\n",
       "        vertical-align: top;\n",
       "    }\n",
       "\n",
       "    .dataframe thead th {\n",
       "        text-align: right;\n",
       "    }\n",
       "</style>\n",
       "<table border=\"1\" class=\"dataframe\">\n",
       "  <thead>\n",
       "    <tr style=\"text-align: right;\">\n",
       "      <th></th>\n",
       "      <th>x</th>\n",
       "      <th>mean_forecast</th>\n",
       "    </tr>\n",
       "  </thead>\n",
       "  <tbody>\n",
       "    <tr>\n",
       "      <th>1970-01-01 00:00:00.000000000</th>\n",
       "      <td>1043971200000000000</td>\n",
       "      <td>-9.132182e+18</td>\n",
       "    </tr>\n",
       "    <tr>\n",
       "      <th>1970-01-01 00:00:00.000000001</th>\n",
       "      <td>1046390400000000000</td>\n",
       "      <td>-9.132182e+18</td>\n",
       "    </tr>\n",
       "    <tr>\n",
       "      <th>1970-01-01 00:00:00.000000002</th>\n",
       "      <td>1049068800000000000</td>\n",
       "      <td>-9.132182e+18</td>\n",
       "    </tr>\n",
       "    <tr>\n",
       "      <th>1970-01-01 00:00:00.000000003</th>\n",
       "      <td>1051660800000000000</td>\n",
       "      <td>-9.132182e+18</td>\n",
       "    </tr>\n",
       "    <tr>\n",
       "      <th>1970-01-01 00:00:00.000000004</th>\n",
       "      <td>1054339200000000000</td>\n",
       "      <td>-9.132182e+18</td>\n",
       "    </tr>\n",
       "  </tbody>\n",
       "</table>\n",
       "</div>"
      ],
      "text/plain": [
       "                                                 x  mean_forecast\n",
       "1970-01-01 00:00:00.000000000  1043971200000000000  -9.132182e+18\n",
       "1970-01-01 00:00:00.000000001  1046390400000000000  -9.132182e+18\n",
       "1970-01-01 00:00:00.000000002  1049068800000000000  -9.132182e+18\n",
       "1970-01-01 00:00:00.000000003  1051660800000000000  -9.132182e+18\n",
       "1970-01-01 00:00:00.000000004  1054339200000000000  -9.132182e+18"
      ]
     },
     "execution_count": 60,
     "metadata": {},
     "output_type": "execute_result"
    }
   ],
   "source": [
    "## Let us get the average of  the training set.\n",
    "\n",
    "SimpleAverage_train['mean_forecast'] = train_dataset['x'].mean()\n",
    "SimpleAverage_train.head()"
   ]
  },
  {
   "cell_type": "code",
   "execution_count": 61,
   "id": "79137b89",
   "metadata": {
    "colab": {
     "base_uri": "https://localhost:8080/",
     "height": 238
    },
    "id": "79137b89",
    "outputId": "78883d36-c563-485a-e1d7-1d906c09cf51"
   },
   "outputs": [
    {
     "data": {
      "text/html": [
       "<div>\n",
       "<style scoped>\n",
       "    .dataframe tbody tr th:only-of-type {\n",
       "        vertical-align: middle;\n",
       "    }\n",
       "\n",
       "    .dataframe tbody tr th {\n",
       "        vertical-align: top;\n",
       "    }\n",
       "\n",
       "    .dataframe thead th {\n",
       "        text-align: right;\n",
       "    }\n",
       "</style>\n",
       "<table border=\"1\" class=\"dataframe\">\n",
       "  <thead>\n",
       "    <tr style=\"text-align: right;\">\n",
       "      <th></th>\n",
       "      <th>x</th>\n",
       "      <th>mean_forecast</th>\n",
       "    </tr>\n",
       "  </thead>\n",
       "  <tbody>\n",
       "    <tr>\n",
       "      <th>1970-01-01 00:00:00.000001353</th>\n",
       "      <td>-9223372036854775808</td>\n",
       "      <td>-9.132182e+18</td>\n",
       "    </tr>\n",
       "    <tr>\n",
       "      <th>1970-01-01 00:00:00.000001354</th>\n",
       "      <td>-9223372036854775808</td>\n",
       "      <td>-9.132182e+18</td>\n",
       "    </tr>\n",
       "    <tr>\n",
       "      <th>1970-01-01 00:00:00.000001355</th>\n",
       "      <td>-9223372036854775808</td>\n",
       "      <td>-9.132182e+18</td>\n",
       "    </tr>\n",
       "    <tr>\n",
       "      <th>1970-01-01 00:00:00.000001356</th>\n",
       "      <td>-9223372036854775808</td>\n",
       "      <td>-9.132182e+18</td>\n",
       "    </tr>\n",
       "    <tr>\n",
       "      <th>1970-01-01 00:00:00.000001357</th>\n",
       "      <td>-9223372036854775808</td>\n",
       "      <td>-9.132182e+18</td>\n",
       "    </tr>\n",
       "  </tbody>\n",
       "</table>\n",
       "</div>"
      ],
      "text/plain": [
       "                                                 x  mean_forecast\n",
       "1970-01-01 00:00:00.000001353 -9223372036854775808  -9.132182e+18\n",
       "1970-01-01 00:00:00.000001354 -9223372036854775808  -9.132182e+18\n",
       "1970-01-01 00:00:00.000001355 -9223372036854775808  -9.132182e+18\n",
       "1970-01-01 00:00:00.000001356 -9223372036854775808  -9.132182e+18\n",
       "1970-01-01 00:00:00.000001357 -9223372036854775808  -9.132182e+18"
      ]
     },
     "execution_count": 61,
     "metadata": {},
     "output_type": "execute_result"
    }
   ],
   "source": [
    "SimpleAverage_test['mean_forecast'] = train_dataset['x'].mean()\n",
    "SimpleAverage_test.head()"
   ]
  },
  {
   "cell_type": "code",
   "execution_count": 62,
   "id": "0175c8b8",
   "metadata": {
    "id": "0175c8b8",
    "outputId": "55803374-cb81-42c8-97ee-c6150e494da5"
   },
   "outputs": [
    {
     "data": {
      "image/png": "[encoded data removed]",
      "text/plain": [
       "<Figure size 1000x800 with 1 Axes>"
      ]
     },
     "metadata": {},
     "output_type": "display_data"
    }
   ],
   "source": [
    "plt.figure(figsize=(10,8))\n",
    "plt.plot(SimpleAverage_train['x'], label='Train')\n",
    "plt.plot(SimpleAverage_test['x'], label='Test')\n",
    "plt.plot(SimpleAverage_train['mean_forecast'], label='Simple Average on Training Data')\n",
    "plt.plot(SimpleAverage_test['mean_forecast'], label='Simple Average on Test Data')\n",
    "plt.legend(loc='best')\n",
    "plt.title(\"Simple Average Forecast of new_car_registration\")\n",
    "plt.rcParams['axes.labelsize'] = 15\n",
    "plt.rcParams['axes.titlesize'] = 15\n",
    "plt.legend(fontsize=\"xx-large\")\n",
    "plt.grid()"
   ]
  },
  {
   "cell_type": "code",
   "execution_count": null,
   "id": "8c458a36",
   "metadata": {
    "colab": {
     "base_uri": "https://localhost:8080/"
    },
    "id": "8c458a36",
    "outputId": "6640ae12-92a5-4fd1-a904-ac02ef2dd91a"
   },
   "outputs": [],
   "source": [
    "## Training Data - RMSE and MAPE\n",
    "\n",
    "rmse_model3_train = metrics.mean_squared_error(train_dataset['new_car_registration'],SimpleAverage_train['mean_forecast'],squared=False)\n",
    "mape_model3_train = MAPE(train_dataset['new_car_registration'],SimpleAverage_train['mean_forecast'])\n",
    "print(\"For Simple Average Model forecast on the Training Data,  RMSE is %3.3f MAPE is %3.2f\" %(rmse_model3_train, mape_model3_train))"
   ]
  },
  {
   "cell_type": "code",
   "execution_count": null,
   "id": "bbb808ca",
   "metadata": {
    "colab": {
     "base_uri": "https://localhost:8080/"
    },
    "id": "bbb808ca",
    "outputId": "0af65182-d811-48ef-8126-28d3a55f9671"
   },
   "outputs": [],
   "source": [
    "## Test Data - RMSE and MAPE\n",
    "\n",
    "rmse_model3_test = metrics.mean_squared_error(test_dataset['new_car_registration'],SimpleAverage_test['mean_forecast'],squared=False)\n",
    "mape_model3_test = MAPE(test_dataset['new_car_registration'],SimpleAverage_test['mean_forecast'])\n",
    "print(\"For Simple Average forecast on the Test Data,  RMSE is %3.3f MAPE is %3.2f\" %(rmse_model3_test, mape_model3_test))"
   ]
  },
  {
   "cell_type": "code",
   "execution_count": null,
   "id": "4c6c05c3",
   "metadata": {
    "colab": {
     "base_uri": "https://localhost:8080/",
     "height": 238
    },
    "id": "4c6c05c3",
    "outputId": "c8b8a156-a8a1-4f6e-982e-9a28971c1274"
   },
   "outputs": [],
   "source": [
    "resultsDf_3_dataset = pd.DataFrame({'Model': 'SimpleAverage', \n",
    "                            \n",
    "                            'Test RMSE': [rmse_model3_test],\n",
    "                            'Test MAPE': [mape_model3_test]}\n",
    "                           ,index=['Model 3'])\n",
    "\n",
    "resultsDf_dataset = pd.concat([resultsDf_dataset, resultsDf_3_dataset])\n",
    "resultsDf_dataset"
   ]
  },
  {
   "cell_type": "markdown",
   "id": "64b7ffb9",
   "metadata": {},
   "source": [
    "# Simple Exponential Smoothing"
   ]
  },
  {
   "cell_type": "code",
   "execution_count": null,
   "id": "3640ed39",
   "metadata": {
    "id": "3640ed39"
   },
   "outputs": [],
   "source": [
    "SES_train_dataset = train_dataset.copy()\n",
    "SES_test_dataset = test_dataset.copy()"
   ]
  },
  {
   "cell_type": "code",
   "execution_count": null,
   "id": "2bd98be2",
   "metadata": {
    "id": "2bd98be2"
   },
   "outputs": [],
   "source": [
    "model_SES = SimpleExpSmoothing(SES_train_dataset['new_car_registration'])"
   ]
  },
  {
   "cell_type": "code",
   "execution_count": null,
   "id": "40c41574",
   "metadata": {
    "id": "40c41574"
   },
   "outputs": [],
   "source": [
    "model_SES_autofit = model_SES.fit(optimized=True,use_brute=True)"
   ]
  },
  {
   "cell_type": "code",
   "execution_count": null,
   "id": "bbaae379",
   "metadata": {
    "colab": {
     "base_uri": "https://localhost:8080/"
    },
    "id": "bbaae379",
    "outputId": "b3990de4-7fc2-4c2a-8993-f55bf57d0e27"
   },
   "outputs": [],
   "source": [
    "model_SES_autofit.params"
   ]
  },
  {
   "cell_type": "code",
   "execution_count": null,
   "id": "5d8d4080",
   "metadata": {
    "colab": {
     "base_uri": "https://localhost:8080/",
     "height": 238
    },
    "id": "5d8d4080",
    "outputId": "0114138f-3349-405d-e88e-714d2ecaa2dd"
   },
   "outputs": [],
   "source": [
    "SES_train_dataset['predict'] = model_SES_autofit.fittedvalues\n",
    "SES_train_dataset.head()"
   ]
  },
  {
   "cell_type": "code",
   "execution_count": null,
   "id": "8bd6cf8e",
   "metadata": {
    "colab": {
     "base_uri": "https://localhost:8080/"
    },
    "id": "8bd6cf8e",
    "outputId": "9234d3e9-240d-49c9-d33c-36bc0f08733a"
   },
   "outputs": [],
   "source": [
    "len(SES_test_dataset)"
   ]
  },
  {
   "cell_type": "code",
   "execution_count": null,
   "id": "80bd6b93",
   "metadata": {
    "colab": {
     "base_uri": "https://localhost:8080/",
     "height": 238
    },
    "id": "80bd6b93",
    "outputId": "bdca8bed-fde2-4dc6-cbde-076f9b03e12e"
   },
   "outputs": [],
   "source": [
    "SES_test_dataset['predict'] = model_SES_autofit.forecast(len(SES_test_dataset))\n",
    "SES_test_dataset.head()"
   ]
  },
  {
   "cell_type": "code",
   "execution_count": null,
   "id": "b9eba5fa",
   "metadata": {
    "id": "b9eba5fa",
    "outputId": "c65f2265-15c5-4696-d898-3a4263a88f47"
   },
   "outputs": [],
   "source": [
    "## Plotting on both the Training and Test data\n",
    "\n",
    "plt.figure(figsize=(16,8))\n",
    "plt.plot(SES_train_dataset['new_car_registration'], label='Train')\n",
    "plt.plot(SES_test_dataset['new_car_registration'], label='Test')\n",
    "\n",
    "plt.plot(SES_train_dataset['predict'], label='Alpha =0.295531 Simple Exponential Smoothing predictions on Training Set')\n",
    "plt.plot(SES_test_dataset['predict'], label='Alpha =0.295531 Simple Exponential Smoothing predictions on Test Set')\n",
    "plt.rcParams['axes.labelsize'] = 16\n",
    "plt.rcParams['axes.titlesize'] = 16\n",
    "plt.legend(loc = 'best')\n",
    "plt.legend(fontsize=\"x-large\")\n",
    "plt.grid()\n",
    "plt.title('Alpha =0.295531 Predictions');"
   ]
  },
  {
   "cell_type": "code",
   "execution_count": null,
   "id": "0285e861",
   "metadata": {
    "colab": {
     "base_uri": "https://localhost:8080/"
    },
    "id": "0285e861",
    "outputId": "848feb29-f7dd-4464-96b9-70c7dc3458f3"
   },
   "outputs": [],
   "source": [
    "## Training Data RMSE and MAPE\n",
    "\n",
    "rmse_model4_train_1 = metrics.mean_squared_error(SES_train_dataset['new_car_registration'],SES_train_dataset['predict'],squared=False)\n",
    "mape_model4_train_1 = MAPE(SES_train_dataset['new_car_registration'],SES_train_dataset['predict'])\n",
    "print(\"For Alpha =0.295531 Simple Exponential Smoothing Model forecast on the Training Data,  RMSE is %3.3f MAPE is %3.2f\" %(rmse_model4_train_1, mape_model4_train_1))"
   ]
  },
  {
   "cell_type": "code",
   "execution_count": null,
   "id": "f469ae8c",
   "metadata": {
    "colab": {
     "base_uri": "https://localhost:8080/"
    },
    "id": "f469ae8c",
    "outputId": "30c30116-40a5-4081-bfd6-2056411a90fb"
   },
   "outputs": [],
   "source": [
    "## Test Data RMSE and MAPE\n",
    "\n",
    "rmse_model4_test_1 = metrics.mean_squared_error(SES_test_dataset['new_car_registration'],SES_test_dataset['predict'],squared=False)\n",
    "mape_model4_test_1 = MAPE(SES_test_dataset['new_car_registration'],SES_test_dataset['predict'])\n",
    "print(\"For Alpha =0.295531 Simple Exponential Smoothing Model forecast on the Test Data,  RMSE is %3.3f MAPE is %3.2f\" %(rmse_model4_test_1, mape_model4_test_1))\n"
   ]
  },
  {
   "cell_type": "code",
   "execution_count": null,
   "id": "85fc5067",
   "metadata": {
    "colab": {
     "base_uri": "https://localhost:8080/",
     "height": 269
    },
    "id": "85fc5067",
    "outputId": "e44a4ee0-bb0e-411d-a1a6-29f29f1e0001"
   },
   "outputs": [],
   "source": [
    "resultsDf_4_1_dataset = pd.DataFrame({'Model': 'Alpha=0.295531,SimpleExponentialSmoothing','Test RMSE': [rmse_model4_test_1],'Test MAPE': [mape_model4_test_1]}\n",
    "                           ,index=['Model 4.1'])\n",
    "\n",
    "resultsDf_dataset = pd.concat([resultsDf_dataset, resultsDf_4_1_dataset])\n",
    "resultsDf_dataset"
   ]
  },
  {
   "cell_type": "code",
   "execution_count": null,
   "id": "7b87d0fa",
   "metadata": {
    "colab": {
     "base_uri": "https://localhost:8080/",
     "height": 49
    },
    "id": "7b87d0fa",
    "outputId": "6cf78288-0526-4897-d98b-67a3e0533f93"
   },
   "outputs": [],
   "source": [
    "## First we will define an empty dataframe to store our values from the loop\n",
    "\n",
    "resultsDf_4_2_dataset = pd.DataFrame({'Alpha Values':[],'Train RMSE':[],'Train MAPE':[]\n",
    "                                ,'Test RMSE': [],'Test MAPE': []})\n",
    "resultsDf_4_2_dataset"
   ]
  },
  {
   "cell_type": "code",
   "execution_count": null,
   "id": "a6f5690a",
   "metadata": {
    "id": "a6f5690a"
   },
   "outputs": [],
   "source": [
    "for i in np.arange(0.01,1,0.01):\n",
    "    model_SES_alpha_i = model_SES.fit(smoothing_level=i,optimized=False,use_brute=True)\n",
    "    SES_train_dataset['predict',i] = model_SES_alpha_i.fittedvalues\n",
    "    SES_test_dataset['predict',i] = model_SES_alpha_i.forecast(len(SES_test_dataset))\n",
    "    \n",
    "    rmse_model4_train_i = metrics.mean_squared_error(SES_train_dataset['new_car_registration'],SES_train_dataset['predict',i],squared=False)\n",
    "    mape_model4_train_i = MAPE(SES_train_dataset['new_car_registration'],SES_train_dataset['predict',i])\n",
    "    \n",
    "    rmse_model4_test_i = metrics.mean_squared_error(SES_test_dataset['new_car_registration'],SES_test_dataset['predict',i],squared=False)\n",
    "    mape_model4_test_i = MAPE(SES_test_dataset['new_car_registration'],SES_test_dataset['predict',i])\n",
    "    \n",
    "    resultsDf_4_2_dataset = resultsDf_4_2_dataset.append({'Alpha Values':i,'Train RMSE':rmse_model4_train_i \n",
    "                                      ,'Train MAPE': mape_model4_train_i,'Test RMSE':rmse_model4_test_i\n",
    "                                      ,'Test MAPE':mape_model4_test_i}, ignore_index=True)"
   ]
  },
  {
   "cell_type": "code",
   "execution_count": null,
   "id": "f452327f",
   "metadata": {
    "colab": {
     "base_uri": "https://localhost:8080/",
     "height": 424
    },
    "id": "f452327f",
    "outputId": "0310b958-c8ef-4a2d-8a92-08e763f6f01b"
   },
   "outputs": [],
   "source": [
    "resultsDf_4_2_dataset.sort_values(by = 'Test RMSE')"
   ]
  },
  {
   "cell_type": "code",
   "execution_count": null,
   "id": "8e169f24",
   "metadata": {
    "id": "8e169f24",
    "outputId": "834eb15b-b066-4794-ddf7-164f6c3be5ca"
   },
   "outputs": [],
   "source": [
    "plt.figure(figsize=(18,9))\n",
    "plt.plot(SES_train_dataset['new_car_registration'], label='Train')\n",
    "plt.plot(SES_test_dataset['new_car_registration'], label='Test')\n",
    "\n",
    "plt.plot(SES_train_dataset['predict'], label='Alpha=0.98,SimpleExponentialSmoothing predictions on Training Set')\n",
    "plt.plot(SES_test_dataset['predict'], label='Alpha=0.98,SimpleExponentialSmoothing predictions on Test Set')\n",
    "plt.rcParams['axes.labelsize'] = 16\n",
    "plt.rcParams['axes.titlesize'] = 16\n",
    "plt.legend(loc = 'best')\n",
    "plt.legend(fontsize=\"x-large\")\n",
    "plt.grid()\n",
    "plt.title('Alpha =0.98 Predictions, Simple Exponential Smoothing')\n",
    "\n",
    "\n",
    "plt.grid()"
   ]
  },
  {
   "cell_type": "code",
   "execution_count": null,
   "id": "2c26a2ad",
   "metadata": {
    "colab": {
     "base_uri": "https://localhost:8080/",
     "height": 300
    },
    "id": "2c26a2ad",
    "outputId": "bdec08cc-aed6-4abc-a29b-879953138798"
   },
   "outputs": [],
   "source": [
    "resultsDf_4_3_dataset = pd.DataFrame({'Model': ['Alpha=0.98,SimpleExponentialSmoothing'],\n",
    "                                'Test RMSE': [resultsDf_4_2_dataset['Test RMSE'][1]]\n",
    "                            ,'Test MAPE': [resultsDf_4_2_dataset['Test MAPE'][1]]}\n",
    "                           ,index=['Model 4.2'])\n",
    "\n",
    "resultsDf_dataset = pd.concat([resultsDf_dataset, resultsDf_4_3_dataset])\n",
    "resultsDf_dataset"
   ]
  },
  {
   "cell_type": "markdown",
   "id": "39d71b2e",
   "metadata": {},
   "source": [
    "#### Double Exponential Smoothing (Holt's Model)"
   ]
  },
  {
   "cell_type": "code",
   "execution_count": null,
   "id": "911f71c7",
   "metadata": {
    "id": "911f71c7"
   },
   "outputs": [],
   "source": [
    "DES_train = train_dataset.copy()\n",
    "DES_test = test_dataset.copy()"
   ]
  },
  {
   "cell_type": "code",
   "execution_count": null,
   "id": "4f217501",
   "metadata": {
    "id": "4f217501"
   },
   "outputs": [],
   "source": [
    "model_DES = Holt(DES_train['new_car_registration'])"
   ]
  },
  {
   "cell_type": "code",
   "execution_count": null,
   "id": "d8cc2e54",
   "metadata": {
    "id": "d8cc2e54"
   },
   "outputs": [],
   "source": [
    "model_DES_autofit = model_DES.fit(optimized=True,use_brute=True)"
   ]
  },
  {
   "cell_type": "code",
   "execution_count": null,
   "id": "a4b1e6f0",
   "metadata": {
    "colab": {
     "base_uri": "https://localhost:8080/",
     "height": 175
    },
    "id": "a4b1e6f0",
    "outputId": "6ed24b4b-1090-4fdc-e499-a3e1161b30db"
   },
   "outputs": [],
   "source": [
    "model_DES_autofit.params_formatted"
   ]
  },
  {
   "cell_type": "code",
   "execution_count": null,
   "id": "71da38cf",
   "metadata": {
    "colab": {
     "base_uri": "https://localhost:8080/"
    },
    "id": "71da38cf",
    "outputId": "23806dfe-6e9a-4977-b0b8-87e88f1a0ee4"
   },
   "outputs": [],
   "source": [
    "test_predictions_model5 = model_DES_autofit.forecast(steps=len(test_dataset))\n",
    "test_predictions_model5.head()"
   ]
  },
  {
   "cell_type": "code",
   "execution_count": null,
   "id": "9093fd44",
   "metadata": {
    "colab": {
     "base_uri": "https://localhost:8080/"
    },
    "id": "9093fd44",
    "outputId": "2a5f7d8e-39e8-4933-9fa6-861df16cf7e4"
   },
   "outputs": [],
   "source": [
    "## Test Data - RMSE and MAPE\n",
    "\n",
    "rmse_model5_test = metrics.mean_squared_error(DES_test['new_car_registration'],test_predictions_model5,squared=False)\n",
    "mape_model5_test = MAPE(DES_test['new_car_registration'],test_predictions_model5)\n",
    "print(\"For Alpha=0.0.526316,Beta=0.526316,DoubleExponentialSmoothing predictions on Test Set,  RMSE is %3.3f MAPE is %3.2f\" %(rmse_model5_test, mape_model5_test))"
   ]
  },
  {
   "cell_type": "code",
   "execution_count": null,
   "id": "952c1a23",
   "metadata": {
    "colab": {
     "base_uri": "https://localhost:8080/",
     "height": 332
    },
    "id": "952c1a23",
    "outputId": "cbb58088-64d5-4ac5-aa69-3ee70621f2b4"
   },
   "outputs": [],
   "source": [
    "resultsDf5_1_dataset = pd.DataFrame({'Model': \"Alpha=0.526316,Beta=0.526316:DoubleExponentialSmoothing\",'Test RMSE': [rmse_model5_test],'Test MAPE': [mape_model5_test]}\n",
    "                              ,index=['Model 5.1'])\n",
    "\n",
    "resultsDf_dataset = pd.concat([resultsDf_dataset, resultsDf5_1_dataset])\n",
    "resultsDf_dataset"
   ]
  },
  {
   "cell_type": "code",
   "execution_count": null,
   "id": "ce7a0a5c",
   "metadata": {
    "colab": {
     "base_uri": "https://localhost:8080/",
     "height": 49
    },
    "id": "ce7a0a5c",
    "outputId": "627f2432-45d6-48ab-e5be-a54a9878e794"
   },
   "outputs": [],
   "source": [
    "## First we will define an empty dataframe to store our values from the loop\n",
    "\n",
    "resultsDf_5_2_dataset = pd.DataFrame({'Alpha Values':[],'Beta Values':[],'Train RMSE':[],'Train MAPE':[]\n",
    "                                ,'Test RMSE': [],'Test MAPE': []})\n",
    "resultsDf_5_2_dataset"
   ]
  },
  {
   "cell_type": "code",
   "execution_count": null,
   "id": "v3gYv6EGNKfB",
   "metadata": {
    "id": "v3gYv6EGNKfB"
   },
   "outputs": [],
   "source": [
    "rmse_model5_train = metrics.mean_squared_error(DES_train['new_car_registration'],DES_train['predict',i,j],squared=False)\n",
    "mape_model5_train = MAPE(DES_train['new_car_registration'],DES_train['predict',i,j])\n",
    "        "
   ]
  },
  {
   "cell_type": "code",
   "execution_count": null,
   "id": "lObpolVfK91g",
   "metadata": {
    "id": "lObpolVfK91g"
   },
   "outputs": [],
   "source": [
    "DES_test['predict',i,j].fillna(999, inplace=True)"
   ]
  },
  {
   "cell_type": "code",
   "execution_count": null,
   "id": "7d8ca46d",
   "metadata": {
    "colab": {
     "base_uri": "https://localhost:8080/"
    },
    "id": "7d8ca46d",
    "outputId": "8e1633bb-cd77-47e1-884a-a2402fce80ac"
   },
   "outputs": [],
   "source": [
    "DES_test['predict',i,j].isnull().sum()"
   ]
  },
  {
   "cell_type": "code",
   "execution_count": null,
   "id": "yXtSijkwLl0A",
   "metadata": {
    "id": "yXtSijkwLl0A"
   },
   "outputs": [],
   "source": [
    "rmse_model5_test = metrics.mean_squared_error(DES_test['new_car_registration'],DES_test['predict',i,j],squared=False)\n",
    "mape_model5_test = MAPE(DES_test['new_car_registration'],DES_test['predict',i,j])\n",
    "        "
   ]
  },
  {
   "cell_type": "code",
   "execution_count": null,
   "id": "6d4d0f19",
   "metadata": {
    "id": "6d4d0f19"
   },
   "outputs": [],
   "source": [
    "resultsDf_5_2_dataset = resultsDf_5_2_dataset.append({'Alpha Values':i,'Beta Values':j,'Train RMSE':rmse_model5_train\n",
    "                                      ,'Train MAPE': mape_model5_train,'Test RMSE':rmse_model5_test\n",
    "                                      ,'Test MAPE':mape_model5_test}, ignore_index=True)"
   ]
  },
  {
   "cell_type": "code",
   "execution_count": null,
   "id": "c55448db",
   "metadata": {
    "colab": {
     "base_uri": "https://localhost:8080/",
     "height": 424
    },
    "id": "c55448db",
    "outputId": "10abe31d-ac5d-45e7-db92-97c71ec153ef"
   },
   "outputs": [],
   "source": [
    "resultsDf_5_2_dataset"
   ]
  },
  {
   "cell_type": "code",
   "execution_count": null,
   "id": "a4ca777c",
   "metadata": {
    "colab": {
     "base_uri": "https://localhost:8080/",
     "height": 206
    },
    "id": "a4ca777c",
    "outputId": "9502023b-4c11-4fe6-bf85-1e4e1bcfddb1"
   },
   "outputs": [],
   "source": [
    "resultsDf_5_2_dataset.sort_values(by=['Test RMSE']).head()"
   ]
  },
  {
   "cell_type": "code",
   "execution_count": null,
   "id": "6e1ac611",
   "metadata": {
    "colab": {
     "base_uri": "https://localhost:8080/",
     "height": 555
    },
    "id": "6e1ac611",
    "outputId": "e2c3bab8-30b1-4815-a2da-6d8c83a5960b"
   },
   "outputs": [],
   "source": [
    "## Plotting on both the Training and Test data \n",
    "## Alpha=0.18,Beta=0.68,DoubleExponentialSmoothing\n",
    "\n",
    "DES_train = train_dataset.copy()\n",
    "DES_test = test_dataset.copy()\n",
    "\n",
    "model_DES = Holt(DES_train['new_car_registration'])\n",
    "\n",
    "model_DES_fit = model_DES.fit(smoothing_level=0.18,smoothing_slope=0.68,optimized=False,use_brute=True)\n",
    "\n",
    "DES_train['predict'] = model_DES_fit.fittedvalues\n",
    "DES_test['predict'] = model_DES_fit.forecast(steps=55)\n",
    "\n",
    "\n",
    "plt.figure(figsize=(17,9))\n",
    "plt.plot(DES_train['new_car_registration'], label='Train')\n",
    "plt.plot(DES_test['new_car_registration'], label='Test')\n",
    "\n",
    "plt.plot(DES_train['predict'], label='Alpha=0.16,Beta=0.68,DoubleExponentialSmoothing predictions on Training Set')\n",
    "plt.plot(DES_test['predict'], label='Alpha=0.16,Beta=0.68,DoubleExponentialSmoothing predictions on Test Set')\n",
    "plt.rcParams['axes.labelsize'] = 15\n",
    "plt.rcParams['axes.titlesize'] = 15\n",
    "plt.legend(loc = 'best')\n",
    "plt.legend(fontsize=\"xx-large\")\n",
    "plt.grid()\n",
    "plt.title('Alpha=0.16,Beta=0.68,DoubleExponentialSmoothing for new_car_registration')\n",
    "\n",
    "\n",
    "plt.grid()"
   ]
  },
  {
   "cell_type": "code",
   "execution_count": null,
   "id": "dcba8313",
   "metadata": {
    "colab": {
     "base_uri": "https://localhost:8080/",
     "height": 363
    },
    "id": "dcba8313",
    "outputId": "d397de8d-fd21-4b53-e570-786d1f537dd6"
   },
   "outputs": [],
   "source": [
    "resultsDf_5_3_dataset = pd.DataFrame({'Model': 'Alpha=0.16,Beta=0.68,DoubleExponentialSmoothing','Test RMSE': [resultsDf_5_2_dataset['Test RMSE'][0]],'Test MAPE':[resultsDf_5_2_dataset['Test MAPE'][0]]}\n",
    "                       ,index=['Model 5.2'])\n",
    "\n",
    "\n",
    "\n",
    "\n",
    "resultsDf_dataset = pd.concat([resultsDf_dataset, resultsDf_5_3_dataset])\n",
    "resultsDf_dataset"
   ]
  },
  {
   "cell_type": "markdown",
   "id": "e513959b",
   "metadata": {},
   "source": [
    "#### Triple Exponential Smoothing (Holt - Winter's Model)"
   ]
  },
  {
   "cell_type": "code",
   "execution_count": null,
   "id": "ff23199f",
   "metadata": {
    "id": "ff23199f"
   },
   "outputs": [],
   "source": [
    "TES_train = train_dataset.copy()\n",
    "TES_test = test_dataset.copy()"
   ]
  },
  {
   "cell_type": "code",
   "execution_count": null,
   "id": "be78232c",
   "metadata": {
    "id": "be78232c"
   },
   "outputs": [],
   "source": [
    "model_TES = ExponentialSmoothing(TES_train['new_car_registration'],trend='additive',seasonal='multiplicative',freq='M')"
   ]
  },
  {
   "cell_type": "code",
   "execution_count": null,
   "id": "6a0989f8",
   "metadata": {
    "id": "6a0989f8"
   },
   "outputs": [],
   "source": [
    "model_TES_autofit = model_TES.fit()"
   ]
  },
  {
   "cell_type": "code",
   "execution_count": null,
   "id": "fc840160",
   "metadata": {
    "colab": {
     "base_uri": "https://localhost:8080/"
    },
    "id": "fc840160",
    "outputId": "790da380-8064-491b-a1a3-394a1c3c916b"
   },
   "outputs": [],
   "source": [
    "model_TES_autofit.params"
   ]
  },
  {
   "cell_type": "code",
   "execution_count": null,
   "id": "e8e6a1e4",
   "metadata": {
    "colab": {
     "base_uri": "https://localhost:8080/",
     "height": 238
    },
    "id": "e8e6a1e4",
    "outputId": "d62e6630-3cbe-41ef-ab95-09d5719ad153"
   },
   "outputs": [],
   "source": [
    "## Prediction on the training data\n",
    "\n",
    "TES_train['auto_predict'] = model_TES_autofit.fittedvalues\n",
    "TES_train.head()"
   ]
  },
  {
   "cell_type": "code",
   "execution_count": null,
   "id": "acfbee93",
   "metadata": {
    "colab": {
     "base_uri": "https://localhost:8080/",
     "height": 238
    },
    "id": "acfbee93",
    "outputId": "c6b6f742-0618-44b9-82b3-beac53fa4919"
   },
   "outputs": [],
   "source": [
    "## Prediction on the test data\n",
    "\n",
    "TES_test['auto_predict'] = model_TES_autofit.forecast(steps=11)\n",
    "TES_test.head()"
   ]
  },
  {
   "cell_type": "code",
   "execution_count": null,
   "id": "744b5512",
   "metadata": {
    "id": "744b5512",
    "outputId": "30a6cc2d-0341-4ea7-97cb-90fd543844f2"
   },
   "outputs": [],
   "source": [
    "## Plotting on both the Training and Test using autofit\n",
    "## Alpha=0.0526,Beta=0.0526,Gamma=0.5789,TripleExponentialSmoothing\n",
    "\n",
    "plt.figure(figsize=(17,9))\n",
    "plt.plot(TES_train['new_car_registration'], label='Train_dataset')\n",
    "plt.plot(TES_test['new_car_registration'], label='Test_dataset')\n",
    "\n",
    "\n",
    "plt.plot(TES_train['auto_predict'], label='Alpha=0.056,Beta=0.056,Gamma=0.589, TripleExponentialSmoothing predictions on Training Set')\n",
    "plt.plot(TES_test['auto_predict'], label='Alpha=0.056,Beta=0.056,Gamma=0.589, TripleExponentialSmoothing predictions on Test Set')\n",
    "plt.rcParams['axes.labelsize'] = 15\n",
    "plt.rcParams['axes.titlesize'] = 15\n",
    "plt.legend(loc = 'best')\n",
    "plt.legend(fontsize=\"xx-large\")\n",
    "plt.grid()\n",
    "plt.title('Alpha=0.056,Beta=0.056,Gamma=0.589,TripleExponentialSmoothing for new_car_registration')\n",
    "plt.grid()"
   ]
  },
  {
   "cell_type": "code",
   "execution_count": null,
   "id": "539f6b40",
   "metadata": {
    "id": "539f6b40"
   },
   "outputs": [],
   "source": [
    "TES_test['auto_predict'].fillna(999, inplace=True)"
   ]
  },
  {
   "cell_type": "code",
   "execution_count": null,
   "id": "f01e08b8",
   "metadata": {
    "colab": {
     "base_uri": "https://localhost:8080/"
    },
    "id": "f01e08b8",
    "outputId": "44412f94-1d0b-4a32-97ad-6fc50f736bfb"
   },
   "outputs": [],
   "source": [
    "## Training Data\n",
    "\n",
    "rmse_model6_train_1 = metrics.mean_squared_error(TES_train['new_car_registration'],TES_train['auto_predict'],squared=False)\n",
    "mape_model6_train_1 = MAPE(TES_train['new_car_registration'],TES_train['auto_predict'])\n",
    "print(\"For lpha=0.056,Beta=0.056,Gamma=0.589, Triple Exponential Smoothing Model forecast on the Training Data,  RMSE is %3.3f MAPE is %3.2f\" %(rmse_model6_train_1, mape_model6_train_1))\n"
   ]
  },
  {
   "cell_type": "code",
   "execution_count": null,
   "id": "67f56eff",
   "metadata": {
    "colab": {
     "base_uri": "https://localhost:8080/"
    },
    "id": "67f56eff",
    "outputId": "17d87f82-fb56-4203-e9a9-2db954d23d6e"
   },
   "outputs": [],
   "source": [
    "## Test Data\n",
    "\n",
    "rmse_model6_test_1 = metrics.mean_squared_error(TES_test['new_car_registration'],TES_test['auto_predict'],squared=False)\n",
    "mape_model6_test_1 = MAPE(TES_test['new_car_registration'],TES_test['auto_predict'])\n",
    "print(\"For lpha=0.056,Beta=0.056,Gamma=0.589, Triple Exponential Smoothing Model forecast on the Test Data,  RMSE is %3.3f MAPE is %3.2f\" %(rmse_model6_test_1, mape_model6_test_1))"
   ]
  },
  {
   "cell_type": "code",
   "execution_count": null,
   "id": "158fa9f5",
   "metadata": {
    "colab": {
     "base_uri": "https://localhost:8080/",
     "height": 394
    },
    "id": "158fa9f5",
    "outputId": "ff88fcf1-485b-4584-f41c-91d74c631d4a"
   },
   "outputs": [],
   "source": [
    "resultsDf_6_1_dataset = pd.DataFrame({'Model': ' Alpha=0.056,Beta=0.056,Gamma=0.589,TripleExponentialSmoothing','Test RMSE': [rmse_model6_test_1],'Test MAPE':[mape_model6_test_1]}\n",
    "                           ,index=['Model 6.1'])\n",
    "\n",
    "resultsDf_dataset = pd.concat([resultsDf_dataset, resultsDf_6_1_dataset])\n",
    "resultsDf_dataset"
   ]
  },
  {
   "cell_type": "code",
   "execution_count": null,
   "id": "d10d918f",
   "metadata": {
    "colab": {
     "base_uri": "https://localhost:8080/",
     "height": 49
    },
    "id": "d10d918f",
    "outputId": "dad7a925-a679-40ea-c1ea-5a7a732a43ef"
   },
   "outputs": [],
   "source": [
    "## First we will define an empty dataframe to store our values from the loop\n",
    "\n",
    "resultsDf_6_2_dataset = pd.DataFrame({'Alpha Values':[],'Beta Values':[],'Gamma Values':[],'Train RMSE':[],'Train MAPE':[]\n",
    "                                ,'Test RMSE': [],'Test MAPE': []})\n",
    "resultsDf_6_2_dataset"
   ]
  },
  {
   "cell_type": "code",
   "execution_count": null,
   "id": "8fab2a52",
   "metadata": {
    "colab": {
     "base_uri": "https://localhost:8080/"
    },
    "id": "8fab2a52",
    "outputId": "0902f5f8-41cb-409c-af66-9dc7c258037e"
   },
   "outputs": [],
   "source": [
    "TES_test['predict',i,j,k].isnull().sum()"
   ]
  },
  {
   "cell_type": "code",
   "execution_count": null,
   "id": "5722371f",
   "metadata": {
    "id": "5722371f"
   },
   "outputs": [],
   "source": [
    "rmse_model6_test = metrics.mean_squared_error(TES_test['new_car_registration'],TES_test['predict',i,j,k],squared=False)\n",
    "mape_model6_test = MAPE(TES_test['new_car_registration'],TES_test['predict',i,j,k])\n",
    "        "
   ]
  },
  {
   "cell_type": "code",
   "execution_count": null,
   "id": "d01618b4",
   "metadata": {
    "id": "d01618b4"
   },
   "outputs": [],
   "source": [
    "TES_test['predict',i,j,k].fillna(999, inplace=True)"
   ]
  },
  {
   "cell_type": "code",
   "execution_count": null,
   "id": "a746af9f",
   "metadata": {
    "id": "a746af9f"
   },
   "outputs": [],
   "source": [
    "for i in np.arange(0,1.1,0.1):\n",
    "    for j in np.arange(0,1.1,0.1):\n",
    "        for k in np.arange(0,1.1,0.1):\n",
    "            model_TES_alpha_i_j_k = model_TES.fit(smoothing_level=i,smoothing_slope=j,smoothing_seasonal=k,optimized=False,use_brute=True)\n",
    "            TES_train['predict',i,j,k] = model_TES_alpha_i_j_k.fittedvalues\n",
    "            TES_test['predict',i,j,k] = model_TES_alpha_i_j_k.forecast(steps=11)\n",
    "        \n",
    "            rmse_model6_train = metrics.mean_squared_error(TES_train['new_car_registration'],TES_train['predict',i,j,k],squared=False)\n",
    "            mape_model6_train = MAPE(TES_train['new_car_registration'],TES_train['predict',i,j,k])\n",
    "        \n",
    "            #rmse_model6_test = metrics.mean_squared_error(TES_test['new_car_registration'],TES_test['predict',i,j,k],squared=False)\n",
    "            #mape_model6_test = MAPE(TES_test['new_car_registration'],TES_test['predict',i,j,k])\n",
    "            resultsDf_6_2_dataset = resultsDf_6_2_dataset.append({'Alpha Values':i,'Beta Values':j,'Gamma Values':k,'Train RMSE':rmse_model6_train\n",
    "                                      ,'Train MAPE': mape_model6_train,'Test RMSE':rmse_model6_test\n",
    "                                      ,'Test MAPE':mape_model6_test}, ignore_index=True)\n",
    "            "
   ]
  },
  {
   "cell_type": "code",
   "execution_count": null,
   "id": "3afc847a",
   "metadata": {
    "colab": {
     "base_uri": "https://localhost:8080/",
     "height": 424
    },
    "id": "3afc847a",
    "outputId": "65edeba7-b1f7-48f7-c903-7b3035a87a26"
   },
   "outputs": [],
   "source": [
    "resultsDf_6_2_dataset"
   ]
  },
  {
   "cell_type": "code",
   "execution_count": null,
   "id": "aa095c77",
   "metadata": {
    "id": "aa095c77",
    "outputId": "a9ebf8d8-bc8a-4f51-b7cc-f10550d6f8bc"
   },
   "outputs": [],
   "source": [
    "## Plotting on both the Training and Test data using brute force alpha, beta and gamma determination\n",
    "#Alpha=0.11,Beta=0.55,Gamma=0.55,TripleExponentialSmoothing\n",
    "\n",
    "plt.figure(figsize=(17,9))\n",
    "plt.plot(TES_train['new_car_registration'], label='Train')\n",
    "plt.plot(TES_test['new_car_registration'], label='Test')\n",
    "\n",
    "plt.plot(TES_train['predict', 0.1, 0.5, 0.5], label='Alpha=0.1,Beta=0.5,Gamma=0.5,TripleExponentialSmoothing predictions on Training Set')\n",
    "#The value of alpha and beta is taken like that by python\n",
    "plt.plot(TES_test['predict', 0.1, 0.5, 0.5], label='Alpha=0.1,Beta=0.5,Gamma=0.5,TripleExponentialSmoothing predictions on Test Set')\n",
    "\n",
    "plt.rcParams['axes.labelsize'] = 15\n",
    "plt.rcParams['axes.titlesize'] = 15\n",
    "plt.legend(loc = 'best')\n",
    "plt.legend(fontsize=\"xx-large\")\n",
    "plt.grid()\n",
    "plt.title('Alpha=0.1,Beta=0.5,Gamma=0.5,TripleExponentialSmoothing')\n",
    "plt.grid()"
   ]
  },
  {
   "cell_type": "code",
   "execution_count": null,
   "id": "23c1c6cf",
   "metadata": {
    "colab": {
     "base_uri": "https://localhost:8080/",
     "height": 426
    },
    "id": "23c1c6cf",
    "outputId": "1fc120b1-fb3b-44d8-a261-e9a84c678ae4"
   },
   "outputs": [],
   "source": [
    "resultsDf_6_3_dataset = pd.DataFrame({'Model': 'Alpha=0.1,Beta=0.5,Gamma=0.5,TripleExponentialSmoothing','Test RMSE': [resultsDf_6_2_dataset['Test RMSE'][180]],'Test MAPE':[resultsDf_6_2_dataset['Test MAPE'][180]]}\n",
    "                           ,index=['Model 6.2'])\n",
    "\n",
    "resultsDf_dataset = pd.concat([resultsDf_dataset, resultsDf_6_3_dataset])\n",
    "resultsDf_dataset"
   ]
  },
  {
   "cell_type": "markdown",
   "id": "8a1629f4",
   "metadata": {},
   "source": [
    "#### Checking for the stationarity of the data at alpha = 0.05."
   ]
  },
  {
   "cell_type": "code",
   "execution_count": null,
   "id": "971bb39f",
   "metadata": {
    "id": "971bb39f"
   },
   "outputs": [],
   "source": [
    "def test_stationarity(timeseries):\n",
    "    \n",
    "    #Determing rolling statistics\n",
    "    rolmean = timeseries.rolling(window=12).mean()\n",
    "    rolstd = timeseries.rolling(window=12).std()\n",
    "\n",
    "    #Plot rolling statistics:\n",
    "    orig = plt.plot(timeseries, color='blue',label='Original')\n",
    "    mean = plt.plot(rolmean, color='red', label='Rolling Mean')\n",
    "    std = plt.plot(rolstd, color='black', label = 'Rolling Std')\n",
    "    plt.legend(loc='best')\n",
    "    plt.title('Rolling Mean & Standard Deviation')\n",
    "    plt.show(block=False)\n",
    "    \n",
    "    #Perform Dickey-Fuller test:\n",
    "    print ('Results of Dickey-Fuller Test:')\n",
    "    dftest = adfuller(timeseries, autolag='AIC')\n",
    "    dfoutput = pd.Series(dftest[0:4], index=['Test Statistic','p-value','#Lags Used','Number of Observations Used'])\n",
    "    for key,value in dftest[4].items():\n",
    "        dfoutput['Critical Value (%s)'%key] = value\n",
    "    print (dfoutput,'\\n')"
   ]
  },
  {
   "cell_type": "code",
   "execution_count": null,
   "id": "0c1980a4",
   "metadata": {
    "id": "0c1980a4",
    "outputId": "dfb8bf74-9bf2-4829-a0b3-b532a73f03b2"
   },
   "outputs": [],
   "source": [
    "test_stationarity(train_dataset['new_car_registration'])"
   ]
  },
  {
   "cell_type": "code",
   "execution_count": null,
   "id": "aa8992bb",
   "metadata": {
    "id": "aa8992bb",
    "outputId": "060e73a5-7f06-4fec-d75f-1d57718c1414"
   },
   "outputs": [],
   "source": [
    "plot_pacf(dataset_final['new_car_registration'].diff().dropna(),lags=15)\n",
    "plt.show()"
   ]
  },
  {
   "cell_type": "code",
   "execution_count": null,
   "id": "34fa9ff9",
   "metadata": {
    "id": "34fa9ff9",
    "outputId": "a89838d5-fa95-492e-e0b1-879895875918"
   },
   "outputs": [],
   "source": [
    "plot_acf(dataset_final['new_car_registration'].diff().dropna(),lags=15)\n",
    "plt.show()"
   ]
  },
  {
   "cell_type": "code",
   "execution_count": null,
   "id": "857aa8c3",
   "metadata": {
    "id": "857aa8c3",
    "outputId": "da269053-793c-4ce4-cf45-0b4f9a619d67",
    "scrolled": true
   },
   "outputs": [],
   "source": [
    "test_stationarity(train_dataset['new_car_registration'].diff().dropna())"
   ]
  },
  {
   "cell_type": "markdown",
   "id": "7e5b6fdd",
   "metadata": {},
   "source": [
    "#### Building an automated version of the ARIMA"
   ]
  },
  {
   "cell_type": "code",
   "execution_count": null,
   "id": "a8607545",
   "metadata": {
    "colab": {
     "base_uri": "https://localhost:8080/"
    },
    "id": "a8607545",
    "outputId": "c02b1b93-df94-400b-e780-fa44958c9230"
   },
   "outputs": [],
   "source": [
    "## The following loop helps us in getting a combination of different parameters of p and q in the range of 0 and 2\n",
    "## We have kept the value of d as 1 as we need to take a difference of the series to make it stationary.\n",
    "\n",
    "import itertools\n",
    "p =  range(0, 3)\n",
    "q = range(0, 2)\n",
    "d= range(1,2)\n",
    "pdq = list(itertools.product(p, d, q))\n",
    "print('Some parameter combinations for the Model...')\n",
    "for i in range(1,len(pdq)):\n",
    "    print('Model: {}'.format(pdq[i]))"
   ]
  },
  {
   "cell_type": "code",
   "execution_count": null,
   "id": "e31ca7ba",
   "metadata": {
    "id": "e31ca7ba"
   },
   "outputs": [],
   "source": [
    "ARIMA_train = train_dataset.copy()\n",
    "ARIMA_test = test_dataset.copy()"
   ]
  },
  {
   "cell_type": "code",
   "execution_count": null,
   "id": "b11ebd2c",
   "metadata": {
    "colab": {
     "base_uri": "https://localhost:8080/",
     "height": 49
    },
    "id": "b11ebd2c",
    "outputId": "67f8c675-842e-4c9a-e090-422fe2b5051b"
   },
   "outputs": [],
   "source": [
    "# Creating an empty Dataframe with column names only\n",
    "ARIMA_AIC1 = pd.DataFrame(columns=['param', 'AIC'])\n",
    "ARIMA_AIC1"
   ]
  },
  {
   "cell_type": "code",
   "execution_count": null,
   "id": "a770b976",
   "metadata": {
    "colab": {
     "base_uri": "https://localhost:8080/"
    },
    "id": "a770b976",
    "outputId": "d3b4245b-55f2-45c5-a031-7d061cb1450b"
   },
   "outputs": [],
   "source": [
    "## Let's start by building ARIMA model -- Although the data set has some seasonality and hence ARIMA is \n",
    "## not the right option Reason for making the model is to understand how different the model could be if seasonality is not considered\n",
    "\n",
    "for param in pdq:\n",
    "    ARIMA_model = pm.auto_arima(ARIMA_train, seasonal=True, m=12, suppress_warnings=True)\n",
    "\n",
    "    print('ARIMA{} - AIC:{}'.format(param,ARIMA_model.aic))\n",
    "    ARIMA_AIC1 = ARIMA_AIC1.append({'param':param, 'AIC': ARIMA_model.aic}, ignore_index=True)"
   ]
  },
  {
   "cell_type": "code",
   "execution_count": null,
   "id": "R190wFp6R5s1",
   "metadata": {
    "id": "R190wFp6R5s1"
   },
   "outputs": [],
   "source": [
    "#defining the pipeline\n",
    "mod = Pipeline([\n",
    "    ('boxcox', BoxCoxEndogTransformer(lmbda2=1e-6)),  # lmbda2 avoids negative values\n",
    "    ('arima', pm.AutoARIMA(seasonal=True, m=12,\n",
    "                           suppress_warnings=True,\n",
    "                           trace=True))\n",
    "])"
   ]
  },
  {
   "cell_type": "code",
   "execution_count": null,
   "id": "5bcd2678",
   "metadata": {
    "colab": {
     "base_uri": "https://localhost:8080/"
    },
    "id": "5bcd2678",
    "outputId": "44c1fe86-7512-4032-9e38-6802ecd5bd45"
   },
   "outputs": [],
   "source": [
    "\n",
    "#fitting the pipeline\n",
    "result_Arima = mod.fit(ARIMA_train)\n",
    "print(result_Arima.summary())\n"
   ]
  },
  {
   "cell_type": "code",
   "execution_count": null,
   "id": "9556bca6",
   "metadata": {
    "colab": {
     "base_uri": "https://localhost:8080/"
    },
    "id": "9556bca6",
    "outputId": "f7de243a-09a8-4a26-b283-194007c067be"
   },
   "outputs": [],
   "source": [
    "predicted_autoARIMA = mod.predict(test_dataset.shape[0])\n",
    "predicted_autoARIMA[1]"
   ]
  },
  {
   "cell_type": "code",
   "execution_count": null,
   "id": "b3fbe0f8",
   "metadata": {
    "id": "b3fbe0f8"
   },
   "outputs": [],
   "source": [
    "#Test data RMSE and MAPE\n",
    "from math import sqrt\n",
    "from sklearn.metrics import  mean_squared_error\n"
   ]
  },
  {
   "cell_type": "code",
   "execution_count": null,
   "id": "ee7bbae7",
   "metadata": {
    "colab": {
     "base_uri": "https://localhost:8080/",
     "height": 457
    },
    "id": "ee7bbae7",
    "outputId": "96883db7-5859-4515-eb57-52d5ff2abb4d"
   },
   "outputs": [],
   "source": [
    "resultsDf_7_dataset = pd.DataFrame({'Model':'autoARIMA(0,1,1)'}\n",
    "                           ,index=['Model 7'])\n",
    "\n",
    "resultsDf_dataset = pd.concat([resultsDf_dataset, resultsDf_7_dataset])\n",
    "resultsDf_dataset"
   ]
  },
  {
   "cell_type": "code",
   "execution_count": null,
   "id": "ab9d3fe7",
   "metadata": {
    "colab": {
     "base_uri": "https://localhost:8080/",
     "height": 283
    },
    "id": "ab9d3fe7",
    "outputId": "29559ba6-a850-4c64-9726-f6868741faab"
   },
   "outputs": [],
   "source": [
    "plt.plot(train_dataset,label='Training Data')\n",
    "plt.plot(test_dataset,label='Test Data')\n",
    "#plt.plot(test_dataset.index,predicted_autoARIMA[1],label='Predicted Data - ARIMA')\n",
    "plt.rcParams['axes.labelsize'] = 16\n",
    "plt.rcParams['axes.titlesize'] = 16\n",
    "plt.legend(loc = 'best')\n",
    "plt.legend(fontsize=\"x-large\")\n",
    "plt.grid()\n",
    "plt.title('Auto Arima(0,1,1)')\n",
    "plt.grid()"
   ]
  },
  {
   "cell_type": "markdown",
   "id": "dd7b0bab",
   "metadata": {},
   "source": [
    "#### Building ARIMA models based on the cut-off points of ACF and PACF on the training data"
   ]
  },
  {
   "cell_type": "code",
   "execution_count": null,
   "id": "ff4f30b9",
   "metadata": {
    "colab": {
     "base_uri": "https://localhost:8080/",
     "height": 457
    },
    "id": "ff4f30b9",
    "outputId": "74af2d79-6121-4381-d80b-af3d4d2216c3"
   },
   "outputs": [],
   "source": [
    "test_stationarity(train_dataset['new_car_registration'])"
   ]
  },
  {
   "cell_type": "code",
   "execution_count": null,
   "id": "f43aced0",
   "metadata": {
    "id": "f43aced0"
   },
   "outputs": [],
   "source": [
    "test_stationarity(train['new_car_registration'].diff().dropna())"
   ]
  },
  {
   "cell_type": "code",
   "execution_count": null,
   "id": "7eac7053",
   "metadata": {
    "id": "7eac7053"
   },
   "outputs": [],
   "source": [
    "#ACF Plot\n",
    "from statsmodels.graphics.tsaplots import plot_acf, plot_pacf\n",
    "plot_acf(train['new_car_registration'],lags=20)\n",
    "plot_acf(train['new_car_registration'].diff().dropna(),lags=20,title='Differenced Series Autocorrelation for new_car_registration')\n",
    "plt.show()"
   ]
  },
  {
   "cell_type": "code",
   "execution_count": null,
   "id": "dcd3049f",
   "metadata": {
    "colab": {
     "base_uri": "https://localhost:8080/",
     "height": 549
    },
    "id": "dcd3049f",
    "outputId": "3083f782-0651-420e-d786-4d061f9207dd"
   },
   "outputs": [],
   "source": [
    "#PACF Plot\n",
    "plot_pacf(train_dataset['new_car_registration'],lags=15)\n",
    "plot_pacf(train_dataset['new_car_registration'].diff().dropna(),lags=15,title='Differenced Series Partial Autocorrelation for new_car_registration')\n",
    "plt.show()"
   ]
  },
  {
   "cell_type": "code",
   "execution_count": null,
   "id": "30d89317",
   "metadata": {
    "colab": {
     "base_uri": "https://localhost:8080/",
     "height": 283
    },
    "id": "30d89317",
    "outputId": "7cd426bd-a21c-467e-86d4-78a364b67f45"
   },
   "outputs": [],
   "source": [
    "plt.plot(train_dataset,label='Training Data')\n",
    "plt.plot(test_dataset,label='Test Data')\n",
    "#plt.plot(test_dataset.index,predicted_autoARIMA[0],label='Predicted Data - autoARIMA')\n",
    "#plt.plot(test_dataset.index,predicted_acf_pacf_ARIMA[0],label='Predicted Data - acf_pacf_ARIMA')\n",
    "plt.rcParams['axes.labelsize'] = 16\n",
    "plt.rcParams['axes.titlesize'] = 16\n",
    "plt.legend(loc = 'best')\n",
    "plt.legend(fontsize=\"x-large\")\n",
    "plt.grid()\n",
    "plt.title('Arima ACF_PACF(2,1,2)')\n",
    "plt.grid()"
   ]
  },
  {
   "cell_type": "markdown",
   "id": "9121d600",
   "metadata": {},
   "source": [
    "#### Based on the model-building exercise, building the most optimum model on the complete data and predict 6 months into the future with 95% confidence interval of value"
   ]
  },
  {
   "cell_type": "code",
   "execution_count": null,
   "id": "8acdbfad",
   "metadata": {
    "colab": {
     "base_uri": "https://localhost:8080/",
     "height": 457
    },
    "id": "8acdbfad",
    "outputId": "f38f591a-bbfa-4d87-faad-1f903032ae9b"
   },
   "outputs": [],
   "source": [
    "pd.options.display.max_colwidth = 100\n",
    "resultsDf_dataset.sort_values(by = 'Test RMSE')"
   ]
  },
  {
   "cell_type": "code",
   "execution_count": null,
   "id": "d96b6136",
   "metadata": {
    "id": "d96b6136"
   },
   "outputs": [],
   "source": [
    "model_DES_full = Holt(dataset_final['new_car_registration'])"
   ]
  },
  {
   "cell_type": "code",
   "execution_count": null,
   "id": "00bd2ed3",
   "metadata": {
    "id": "00bd2ed3"
   },
   "outputs": [],
   "source": [
    "fullmodel1 = model_DES_full.fit(smoothing_level=0.16,smoothing_slope=0.68,optimized=False,use_brute=True)"
   ]
  },
  {
   "cell_type": "code",
   "execution_count": null,
   "id": "0c01b551",
   "metadata": {
    "colab": {
     "base_uri": "https://localhost:8080/"
    },
    "id": "0c01b551",
    "outputId": "9d1d1a96-8936-4a40-afb6-e73978d6f1f7"
   },
   "outputs": [],
   "source": [
    "RMSE_fullmodel1 = metrics.mean_squared_error(dataset_final['new_car_registration'],fullmodel1.fittedvalues,squared=False)\n",
    "MAPE_fullmodel1 = MAPE(dataset_final['new_car_registration'],fullmodel1.fittedvalues)\n",
    "\n",
    "print('Full_Model_DES (Alpha: 0.16,Beta: 0.68): RMSE:',RMSE_fullmodel1,'\\nMAPE:',MAPE_fullmodel1)"
   ]
  },
  {
   "cell_type": "code",
   "execution_count": null,
   "id": "5fb2d79f",
   "metadata": {
    "id": "5fb2d79f"
   },
   "outputs": [],
   "source": [
    "# Getting the predictions for the same number of times stamps that are present in the test data\n",
    "prediction_1 = fullmodel1.forecast(steps=6)"
   ]
  },
  {
   "cell_type": "code",
   "execution_count": null,
   "id": "14170fe0",
   "metadata": {
    "colab": {
     "base_uri": "https://localhost:8080/",
     "height": 301
    },
    "id": "14170fe0",
    "outputId": "4f86762a-eb9b-473a-f57f-eb53d2540d23"
   },
   "outputs": [],
   "source": [
    "dataset_final.plot()\n",
    "prediction_1.plot()"
   ]
  },
  {
   "cell_type": "code",
   "execution_count": null,
   "id": "07f4e241",
   "metadata": {
    "colab": {
     "base_uri": "https://localhost:8080/",
     "height": 206
    },
    "id": "07f4e241",
    "outputId": "9aa7fd60-d014-49d7-b259-3e5bd0d86dc0"
   },
   "outputs": [],
   "source": [
    "#In the below code, we have calculated the upper and lower confidence bands at 95% confidence level\n",
    "#The percentile function under numpy lets us calculate these and adding and subtracting from the predictions\n",
    "#gives us the necessary confidence bands for the predictions\n",
    "pred_1_dataset = pd.DataFrame({'lower_CI':prediction_1 - ((np.percentile(prediction_1,[2.5,97.5])))[0],\n",
    "                          'prediction':prediction_1,\n",
    "                          'upper_ci': prediction_1 + ((np.percentile(prediction_1,[2.5,97.5])))[1]})\n",
    "pred_1_dataset.head()"
   ]
  },
  {
   "cell_type": "code",
   "execution_count": null,
   "id": "e6021ea8",
   "metadata": {
    "colab": {
     "base_uri": "https://localhost:8080/",
     "height": 537
    },
    "id": "e6021ea8",
    "outputId": "0b62254d-2a56-4f56-fd7c-539a1107e65c"
   },
   "outputs": [],
   "source": [
    "# plot the forecast along with the confidence band\n",
    "\n",
    "axis = dataset_final.plot(label='Actual', figsize=(10,8))\n",
    "pred_1_dataset['prediction'].plot(ax=axis, label='Forecast-TES', alpha=0.5)\n",
    "axis.fill_between(pred_1_dataset.index, pred_1_dataset['lower_CI'], pred_1_dataset['upper_ci'], color='k', alpha=.15)\n",
    "axis.set_xlabel('Year-Months')\n",
    "axis.set_ylabel('new_car_registration')\n",
    "plt.rcParams['axes.labelsize'] = 15\n",
    "plt.rcParams['axes.titlesize'] = 15\n",
    "plt.legend(loc = 'best')\n",
    "plt.legend(fontsize=\"x-large\")\n",
    "plt.grid()\n",
    "plt.title('Triple Exponential Smoothing 0.3,0.15,0.2')"
   ]
  },
  {
   "cell_type": "markdown",
   "id": "6390be87",
   "metadata": {
    "id": "d0425312"
   },
   "source": [
    "# Part B:Logistic Regression"
   ]
  },
  {
   "cell_type": "code",
   "execution_count": 78,
   "id": "9519762d",
   "metadata": {
    "id": "9519762d"
   },
   "outputs": [],
   "source": [
    "#import all libraries\n",
    "import pandas as pd\n",
    "import numpy as np\n",
    "import seaborn as sns\n",
    "from sklearn.preprocessing import LabelEncoder\n",
    "from sklearn.linear_model import LogisticRegression\n",
    "from sklearn.metrics import confusion_matrix, accuracy_score, classification_report"
   ]
  },
  {
   "cell_type": "code",
   "execution_count": 63,
   "id": "2yOQVJngQ4sX",
   "metadata": {
    "id": "2yOQVJngQ4sX"
   },
   "outputs": [
    {
     "data": {
      "text/html": [
       "<div>\n",
       "<style scoped>\n",
       "    .dataframe tbody tr th:only-of-type {\n",
       "        vertical-align: middle;\n",
       "    }\n",
       "\n",
       "    .dataframe tbody tr th {\n",
       "        vertical-align: top;\n",
       "    }\n",
       "\n",
       "    .dataframe thead th {\n",
       "        text-align: right;\n",
       "    }\n",
       "</style>\n",
       "<table border=\"1\" class=\"dataframe\">\n",
       "  <thead>\n",
       "    <tr style=\"text-align: right;\">\n",
       "      <th></th>\n",
       "      <th>ID</th>\n",
       "      <th>No_Pation</th>\n",
       "      <th>Gender</th>\n",
       "      <th>AGE</th>\n",
       "      <th>Urea</th>\n",
       "      <th>Cr</th>\n",
       "      <th>HbA1c</th>\n",
       "      <th>Chol</th>\n",
       "      <th>TG</th>\n",
       "      <th>HDL</th>\n",
       "      <th>LDL</th>\n",
       "      <th>VLDL</th>\n",
       "      <th>BMI</th>\n",
       "      <th>CLASS</th>\n",
       "    </tr>\n",
       "  </thead>\n",
       "  <tbody>\n",
       "    <tr>\n",
       "      <th>0</th>\n",
       "      <td>502</td>\n",
       "      <td>17975</td>\n",
       "      <td>F</td>\n",
       "      <td>50</td>\n",
       "      <td>4.7</td>\n",
       "      <td>46</td>\n",
       "      <td>4.9</td>\n",
       "      <td>4.2</td>\n",
       "      <td>0.9</td>\n",
       "      <td>2.4</td>\n",
       "      <td>1.4</td>\n",
       "      <td>0.5</td>\n",
       "      <td>24.0</td>\n",
       "      <td>N</td>\n",
       "    </tr>\n",
       "    <tr>\n",
       "      <th>1</th>\n",
       "      <td>420</td>\n",
       "      <td>47975</td>\n",
       "      <td>F</td>\n",
       "      <td>50</td>\n",
       "      <td>4.7</td>\n",
       "      <td>46</td>\n",
       "      <td>4.9</td>\n",
       "      <td>4.2</td>\n",
       "      <td>0.9</td>\n",
       "      <td>2.4</td>\n",
       "      <td>1.4</td>\n",
       "      <td>0.5</td>\n",
       "      <td>24.0</td>\n",
       "      <td>N</td>\n",
       "    </tr>\n",
       "    <tr>\n",
       "      <th>2</th>\n",
       "      <td>680</td>\n",
       "      <td>87656</td>\n",
       "      <td>F</td>\n",
       "      <td>50</td>\n",
       "      <td>4.7</td>\n",
       "      <td>46</td>\n",
       "      <td>4.9</td>\n",
       "      <td>4.2</td>\n",
       "      <td>0.9</td>\n",
       "      <td>2.4</td>\n",
       "      <td>1.4</td>\n",
       "      <td>0.5</td>\n",
       "      <td>24.0</td>\n",
       "      <td>N</td>\n",
       "    </tr>\n",
       "    <tr>\n",
       "      <th>3</th>\n",
       "      <td>634</td>\n",
       "      <td>34224</td>\n",
       "      <td>F</td>\n",
       "      <td>45</td>\n",
       "      <td>2.3</td>\n",
       "      <td>24</td>\n",
       "      <td>4.0</td>\n",
       "      <td>2.9</td>\n",
       "      <td>1.0</td>\n",
       "      <td>1.0</td>\n",
       "      <td>1.5</td>\n",
       "      <td>0.4</td>\n",
       "      <td>21.0</td>\n",
       "      <td>N</td>\n",
       "    </tr>\n",
       "    <tr>\n",
       "      <th>4</th>\n",
       "      <td>721</td>\n",
       "      <td>34225</td>\n",
       "      <td>F</td>\n",
       "      <td>50</td>\n",
       "      <td>2.0</td>\n",
       "      <td>50</td>\n",
       "      <td>4.0</td>\n",
       "      <td>3.6</td>\n",
       "      <td>1.3</td>\n",
       "      <td>0.9</td>\n",
       "      <td>2.1</td>\n",
       "      <td>0.6</td>\n",
       "      <td>24.0</td>\n",
       "      <td>N</td>\n",
       "    </tr>\n",
       "  </tbody>\n",
       "</table>\n",
       "</div>"
      ],
      "text/plain": [
       "    ID  No_Pation Gender  AGE  Urea  Cr  HbA1c  Chol   TG  HDL  LDL  VLDL  \\\n",
       "0  502      17975      F   50   4.7  46    4.9   4.2  0.9  2.4  1.4   0.5   \n",
       "1  420      47975      F   50   4.7  46    4.9   4.2  0.9  2.4  1.4   0.5   \n",
       "2  680      87656      F   50   4.7  46    4.9   4.2  0.9  2.4  1.4   0.5   \n",
       "3  634      34224      F   45   2.3  24    4.0   2.9  1.0  1.0  1.5   0.4   \n",
       "4  721      34225      F   50   2.0  50    4.0   3.6  1.3  0.9  2.1   0.6   \n",
       "\n",
       "    BMI CLASS  \n",
       "0  24.0     N  \n",
       "1  24.0     N  \n",
       "2  24.0     N  \n",
       "3  21.0     N  \n",
       "4  24.0     N  "
      ]
     },
     "execution_count": 63,
     "metadata": {},
     "output_type": "execute_result"
    }
   ],
   "source": [
    "#read the dataset\n",
    "df = pd.read_csv(\"Diabetes Dataset.csv\")\n",
    "df.head()"
   ]
  },
  {
   "cell_type": "code",
   "execution_count": 64,
   "id": "iHju6lYdQ4yx",
   "metadata": {
    "id": "iHju6lYdQ4yx"
   },
   "outputs": [
    {
     "data": {
      "text/plain": [
       "ID           0\n",
       "No_Pation    0\n",
       "Gender       0\n",
       "AGE          0\n",
       "Urea         0\n",
       "Cr           0\n",
       "HbA1c        0\n",
       "Chol         0\n",
       "TG           0\n",
       "HDL          0\n",
       "LDL          0\n",
       "VLDL         0\n",
       "BMI          0\n",
       "CLASS        0\n",
       "dtype: int64"
      ]
     },
     "execution_count": 64,
     "metadata": {},
     "output_type": "execute_result"
    }
   ],
   "source": [
    "#checking the null values of dataset\n",
    "df.isnull().sum()"
   ]
  },
  {
   "cell_type": "code",
   "execution_count": 65,
   "id": "76Xr3FoTQ43S",
   "metadata": {
    "id": "76Xr3FoTQ43S"
   },
   "outputs": [
    {
     "data": {
      "text/html": [
       "<div>\n",
       "<style scoped>\n",
       "    .dataframe tbody tr th:only-of-type {\n",
       "        vertical-align: middle;\n",
       "    }\n",
       "\n",
       "    .dataframe tbody tr th {\n",
       "        vertical-align: top;\n",
       "    }\n",
       "\n",
       "    .dataframe thead th {\n",
       "        text-align: right;\n",
       "    }\n",
       "</style>\n",
       "<table border=\"1\" class=\"dataframe\">\n",
       "  <thead>\n",
       "    <tr style=\"text-align: right;\">\n",
       "      <th></th>\n",
       "      <th>ID</th>\n",
       "      <th>No_Pation</th>\n",
       "      <th>AGE</th>\n",
       "      <th>Urea</th>\n",
       "      <th>Cr</th>\n",
       "      <th>HbA1c</th>\n",
       "      <th>Chol</th>\n",
       "      <th>TG</th>\n",
       "      <th>HDL</th>\n",
       "      <th>LDL</th>\n",
       "      <th>VLDL</th>\n",
       "      <th>BMI</th>\n",
       "    </tr>\n",
       "  </thead>\n",
       "  <tbody>\n",
       "    <tr>\n",
       "      <th>count</th>\n",
       "      <td>1000.000000</td>\n",
       "      <td>1.000000e+03</td>\n",
       "      <td>1000.000000</td>\n",
       "      <td>1000.000000</td>\n",
       "      <td>1000.000000</td>\n",
       "      <td>1000.000000</td>\n",
       "      <td>1000.000000</td>\n",
       "      <td>1000.000000</td>\n",
       "      <td>1000.000000</td>\n",
       "      <td>1000.000000</td>\n",
       "      <td>1000.000000</td>\n",
       "      <td>1000.000000</td>\n",
       "    </tr>\n",
       "    <tr>\n",
       "      <th>mean</th>\n",
       "      <td>340.500000</td>\n",
       "      <td>2.705514e+05</td>\n",
       "      <td>53.528000</td>\n",
       "      <td>5.124743</td>\n",
       "      <td>68.943000</td>\n",
       "      <td>8.281160</td>\n",
       "      <td>4.862820</td>\n",
       "      <td>2.349610</td>\n",
       "      <td>1.204750</td>\n",
       "      <td>2.609790</td>\n",
       "      <td>1.854700</td>\n",
       "      <td>29.578020</td>\n",
       "    </tr>\n",
       "    <tr>\n",
       "      <th>std</th>\n",
       "      <td>240.397673</td>\n",
       "      <td>3.380758e+06</td>\n",
       "      <td>8.799241</td>\n",
       "      <td>2.935165</td>\n",
       "      <td>59.984747</td>\n",
       "      <td>2.534003</td>\n",
       "      <td>1.301738</td>\n",
       "      <td>1.401176</td>\n",
       "      <td>0.660414</td>\n",
       "      <td>1.115102</td>\n",
       "      <td>3.663599</td>\n",
       "      <td>4.962388</td>\n",
       "    </tr>\n",
       "    <tr>\n",
       "      <th>min</th>\n",
       "      <td>1.000000</td>\n",
       "      <td>1.230000e+02</td>\n",
       "      <td>20.000000</td>\n",
       "      <td>0.500000</td>\n",
       "      <td>6.000000</td>\n",
       "      <td>0.900000</td>\n",
       "      <td>0.000000</td>\n",
       "      <td>0.300000</td>\n",
       "      <td>0.200000</td>\n",
       "      <td>0.300000</td>\n",
       "      <td>0.100000</td>\n",
       "      <td>19.000000</td>\n",
       "    </tr>\n",
       "    <tr>\n",
       "      <th>25%</th>\n",
       "      <td>125.750000</td>\n",
       "      <td>2.406375e+04</td>\n",
       "      <td>51.000000</td>\n",
       "      <td>3.700000</td>\n",
       "      <td>48.000000</td>\n",
       "      <td>6.500000</td>\n",
       "      <td>4.000000</td>\n",
       "      <td>1.500000</td>\n",
       "      <td>0.900000</td>\n",
       "      <td>1.800000</td>\n",
       "      <td>0.700000</td>\n",
       "      <td>26.000000</td>\n",
       "    </tr>\n",
       "    <tr>\n",
       "      <th>50%</th>\n",
       "      <td>300.500000</td>\n",
       "      <td>3.439550e+04</td>\n",
       "      <td>55.000000</td>\n",
       "      <td>4.600000</td>\n",
       "      <td>60.000000</td>\n",
       "      <td>8.000000</td>\n",
       "      <td>4.800000</td>\n",
       "      <td>2.000000</td>\n",
       "      <td>1.100000</td>\n",
       "      <td>2.500000</td>\n",
       "      <td>0.900000</td>\n",
       "      <td>30.000000</td>\n",
       "    </tr>\n",
       "    <tr>\n",
       "      <th>75%</th>\n",
       "      <td>550.250000</td>\n",
       "      <td>4.538425e+04</td>\n",
       "      <td>59.000000</td>\n",
       "      <td>5.700000</td>\n",
       "      <td>73.000000</td>\n",
       "      <td>10.200000</td>\n",
       "      <td>5.600000</td>\n",
       "      <td>2.900000</td>\n",
       "      <td>1.300000</td>\n",
       "      <td>3.300000</td>\n",
       "      <td>1.500000</td>\n",
       "      <td>33.000000</td>\n",
       "    </tr>\n",
       "    <tr>\n",
       "      <th>max</th>\n",
       "      <td>800.000000</td>\n",
       "      <td>7.543566e+07</td>\n",
       "      <td>79.000000</td>\n",
       "      <td>38.900000</td>\n",
       "      <td>800.000000</td>\n",
       "      <td>16.000000</td>\n",
       "      <td>10.300000</td>\n",
       "      <td>13.800000</td>\n",
       "      <td>9.900000</td>\n",
       "      <td>9.900000</td>\n",
       "      <td>35.000000</td>\n",
       "      <td>47.750000</td>\n",
       "    </tr>\n",
       "  </tbody>\n",
       "</table>\n",
       "</div>"
      ],
      "text/plain": [
       "                ID     No_Pation          AGE         Urea           Cr  \\\n",
       "count  1000.000000  1.000000e+03  1000.000000  1000.000000  1000.000000   \n",
       "mean    340.500000  2.705514e+05    53.528000     5.124743    68.943000   \n",
       "std     240.397673  3.380758e+06     8.799241     2.935165    59.984747   \n",
       "min       1.000000  1.230000e+02    20.000000     0.500000     6.000000   \n",
       "25%     125.750000  2.406375e+04    51.000000     3.700000    48.000000   \n",
       "50%     300.500000  3.439550e+04    55.000000     4.600000    60.000000   \n",
       "75%     550.250000  4.538425e+04    59.000000     5.700000    73.000000   \n",
       "max     800.000000  7.543566e+07    79.000000    38.900000   800.000000   \n",
       "\n",
       "             HbA1c         Chol           TG          HDL          LDL  \\\n",
       "count  1000.000000  1000.000000  1000.000000  1000.000000  1000.000000   \n",
       "mean      8.281160     4.862820     2.349610     1.204750     2.609790   \n",
       "std       2.534003     1.301738     1.401176     0.660414     1.115102   \n",
       "min       0.900000     0.000000     0.300000     0.200000     0.300000   \n",
       "25%       6.500000     4.000000     1.500000     0.900000     1.800000   \n",
       "50%       8.000000     4.800000     2.000000     1.100000     2.500000   \n",
       "75%      10.200000     5.600000     2.900000     1.300000     3.300000   \n",
       "max      16.000000    10.300000    13.800000     9.900000     9.900000   \n",
       "\n",
       "              VLDL          BMI  \n",
       "count  1000.000000  1000.000000  \n",
       "mean      1.854700    29.578020  \n",
       "std       3.663599     4.962388  \n",
       "min       0.100000    19.000000  \n",
       "25%       0.700000    26.000000  \n",
       "50%       0.900000    30.000000  \n",
       "75%       1.500000    33.000000  \n",
       "max      35.000000    47.750000  "
      ]
     },
     "execution_count": 65,
     "metadata": {},
     "output_type": "execute_result"
    }
   ],
   "source": [
    "#describe the dataset\n",
    "df.describe()"
   ]
  },
  {
   "cell_type": "code",
   "execution_count": 66,
   "id": "6GA3Lsj9Q49F",
   "metadata": {
    "id": "6GA3Lsj9Q49F"
   },
   "outputs": [
    {
     "name": "stdout",
     "output_type": "stream",
     "text": [
      "<class 'pandas.core.frame.DataFrame'>\n",
      "RangeIndex: 1000 entries, 0 to 999\n",
      "Data columns (total 14 columns):\n",
      " #   Column     Non-Null Count  Dtype  \n",
      "---  ------     --------------  -----  \n",
      " 0   ID         1000 non-null   int64  \n",
      " 1   No_Pation  1000 non-null   int64  \n",
      " 2   Gender     1000 non-null   object \n",
      " 3   AGE        1000 non-null   int64  \n",
      " 4   Urea       1000 non-null   float64\n",
      " 5   Cr         1000 non-null   int64  \n",
      " 6   HbA1c      1000 non-null   float64\n",
      " 7   Chol       1000 non-null   float64\n",
      " 8   TG         1000 non-null   float64\n",
      " 9   HDL        1000 non-null   float64\n",
      " 10  LDL        1000 non-null   float64\n",
      " 11  VLDL       1000 non-null   float64\n",
      " 12  BMI        1000 non-null   float64\n",
      " 13  CLASS      1000 non-null   object \n",
      "dtypes: float64(8), int64(4), object(2)\n",
      "memory usage: 109.5+ KB\n"
     ]
    }
   ],
   "source": [
    "#checking the columns\n",
    "df.info()"
   ]
  },
  {
   "cell_type": "markdown",
   "id": "8175cabf",
   "metadata": {},
   "source": [
    "#### Exploratory data analysis"
   ]
  },
  {
   "cell_type": "code",
   "execution_count": 67,
   "id": "2c776495",
   "metadata": {},
   "outputs": [
    {
     "data": {
      "text/plain": [
       "<AxesSubplot:xlabel='AGE', ylabel='CLASS'>"
      ]
     },
     "execution_count": 67,
     "metadata": {},
     "output_type": "execute_result"
    },
    {
     "data": {
      "image/png": "[encoded data removed]",
      "text/plain": [
       "<Figure size 1000x600 with 1 Axes>"
      ]
     },
     "metadata": {},
     "output_type": "display_data"
    }
   ],
   "source": [
    "#plot for age and ed\n",
    "sns.scatterplot(x='AGE',y='CLASS',data=df)"
   ]
  },
  {
   "cell_type": "code",
   "execution_count": 68,
   "id": "f9c8b59c",
   "metadata": {},
   "outputs": [
    {
     "data": {
      "text/plain": [
       "<AxesSubplot:xlabel='Gender', ylabel='AGE'>"
      ]
     },
     "execution_count": 68,
     "metadata": {},
     "output_type": "execute_result"
    },
    {
     "data": {
      "image/png": "[encoded data removed]",
      "text/plain": [
       "<Figure size 1000x600 with 1 Axes>"
      ]
     },
     "metadata": {},
     "output_type": "display_data"
    }
   ],
   "source": [
    "#plot for gender vs ed\n",
    "sns.barplot(x='Gender',y='AGE',data=df)"
   ]
  },
  {
   "cell_type": "code",
   "execution_count": 69,
   "id": "942c6d08",
   "metadata": {},
   "outputs": [
    {
     "data": {
      "text/plain": [
       "<AxesSubplot:xlabel='Gender', ylabel='AGE'>"
      ]
     },
     "execution_count": 69,
     "metadata": {},
     "output_type": "execute_result"
    },
    {
     "data": {
      "image/png": "[encoded data removed]",
      "text/plain": [
       "<Figure size 1000x600 with 1 Axes>"
      ]
     },
     "metadata": {},
     "output_type": "display_data"
    }
   ],
   "source": [
    "#plot for gender vs income\n",
    "sns.violinplot(x='Gender',y='AGE',data=df)"
   ]
  },
  {
   "cell_type": "code",
   "execution_count": 70,
   "id": "4fd2a5b9",
   "metadata": {},
   "outputs": [],
   "source": [
    "#splitting the dataset\n",
    "x=df.drop(['CLASS'],axis=1)"
   ]
  },
  {
   "cell_type": "code",
   "execution_count": 71,
   "id": "d609c0cb",
   "metadata": {},
   "outputs": [],
   "source": [
    "y=df['CLASS']"
   ]
  },
  {
   "cell_type": "code",
   "execution_count": 72,
   "id": "6a72280e",
   "metadata": {},
   "outputs": [],
   "source": [
    "#perform train and test split\n",
    "from sklearn.model_selection import train_test_split\n",
    "x_train,x_test, y_train,y_test = train_test_split(x,y,test_size=0.3)"
   ]
  },
  {
   "cell_type": "code",
   "execution_count": 74,
   "id": "4117d213-5d83-4523-93f2-cad25e5ef7a1",
   "metadata": {},
   "outputs": [
    {
     "data": {
      "text/plain": [
       "LogisticRegression()"
      ]
     },
     "execution_count": 74,
     "metadata": {},
     "output_type": "execute_result"
    }
   ],
   "source": [
    "import pandas as pd\n",
    "from sklearn.linear_model import LogisticRegression\n",
    "encoded_train = pd.get_dummies(x_train, columns=['Gender'])\n",
    "encoded_test = pd.get_dummies(x_test, columns=['Gender'])\n",
    "\n",
    "classifier = LogisticRegression()\n",
    "classifier.fit(encoded_train, y_train)"
   ]
  },
  {
   "cell_type": "code",
   "execution_count": 75,
   "id": "c8dcfbd4-9a1a-4d2c-8ce5-8d9986db458b",
   "metadata": {},
   "outputs": [
    {
     "data": {
      "text/plain": [
       "array(['Y', 'Y', 'Y', 'Y', 'Y', 'Y', 'Y', 'Y', 'Y', 'Y', 'Y', 'Y', 'Y',\n",
       "       'Y', 'Y', 'Y', 'Y', 'Y', 'Y', 'Y', 'Y', 'Y', 'Y', 'Y', 'Y', 'Y',\n",
       "       'Y', 'Y', 'Y', 'Y', 'Y', 'Y', 'Y', 'Y', 'Y', 'Y', 'Y', 'Y', 'Y',\n",
       "       'Y', 'Y', 'Y', 'Y', 'Y', 'Y', 'Y', 'Y', 'Y', 'Y', 'Y', 'Y', 'Y',\n",
       "       'Y', 'Y', 'Y', 'Y', 'Y', 'Y', 'Y', 'Y', 'Y', 'Y', 'Y', 'Y', 'Y',\n",
       "       'Y', 'Y', 'Y', 'Y', 'Y', 'Y', 'Y', 'Y', 'Y', 'Y', 'Y', 'Y', 'Y',\n",
       "       'Y', 'Y', 'Y', 'Y', 'Y', 'Y', 'Y', 'Y', 'Y', 'Y', 'Y', 'Y', 'Y',\n",
       "       'Y', 'Y', 'Y', 'Y', 'Y', 'Y', 'Y', 'Y', 'Y', 'Y', 'Y', 'Y', 'Y',\n",
       "       'Y', 'Y', 'Y', 'Y', 'Y', 'Y', 'Y', 'Y', 'Y', 'Y', 'Y', 'Y', 'Y',\n",
       "       'Y', 'Y', 'Y', 'Y', 'Y', 'Y', 'Y', 'Y', 'Y', 'Y', 'Y', 'Y', 'Y',\n",
       "       'Y', 'Y', 'Y', 'Y', 'Y', 'Y', 'Y', 'Y', 'Y', 'Y', 'Y', 'Y', 'Y',\n",
       "       'Y', 'Y', 'Y', 'Y', 'Y', 'Y', 'Y', 'Y', 'Y', 'Y', 'Y', 'Y', 'Y',\n",
       "       'Y', 'Y', 'Y', 'Y', 'Y', 'Y', 'Y', 'Y', 'Y', 'Y', 'Y', 'Y', 'Y',\n",
       "       'Y', 'Y', 'Y', 'Y', 'Y', 'Y', 'Y', 'Y', 'Y', 'Y', 'Y', 'Y', 'Y',\n",
       "       'Y', 'Y', 'Y', 'Y', 'Y', 'Y', 'Y', 'Y', 'Y', 'Y', 'Y', 'Y', 'Y',\n",
       "       'Y', 'Y', 'Y', 'Y', 'Y', 'Y', 'Y', 'Y', 'Y', 'Y', 'Y', 'Y', 'Y',\n",
       "       'Y', 'Y', 'Y', 'Y', 'Y', 'Y', 'Y', 'Y', 'Y', 'Y', 'Y', 'Y', 'Y',\n",
       "       'Y', 'Y', 'Y', 'Y', 'Y', 'Y', 'Y', 'Y', 'Y', 'Y', 'Y', 'Y', 'Y',\n",
       "       'Y', 'Y', 'Y', 'Y', 'Y', 'Y', 'Y', 'Y', 'Y', 'Y', 'Y', 'Y', 'Y',\n",
       "       'Y', 'Y', 'Y', 'Y', 'Y', 'Y', 'Y', 'Y', 'Y', 'Y', 'Y', 'Y', 'Y',\n",
       "       'Y', 'Y', 'Y', 'Y', 'Y', 'Y', 'Y', 'Y', 'Y', 'Y', 'Y', 'Y', 'Y',\n",
       "       'Y', 'Y', 'Y', 'Y', 'Y', 'Y', 'Y', 'Y', 'Y', 'Y', 'Y', 'Y', 'Y',\n",
       "       'Y', 'Y', 'Y', 'Y', 'Y', 'Y', 'Y', 'Y', 'Y', 'Y', 'Y', 'Y', 'Y',\n",
       "       'Y'], dtype=object)"
      ]
     },
     "execution_count": 75,
     "metadata": {},
     "output_type": "execute_result"
    }
   ],
   "source": [
    "import pandas as pd\n",
    "\n",
    "# Make sure the columns in the test data match the columns in the encoded training data\n",
    "missing_cols = set(encoded_train.columns) - set(encoded_test.columns)\n",
    "for col in missing_cols:\n",
    "    encoded_test[col] = 0\n",
    "\n",
    "# predict value on test data\n",
    "preds = classifier.predict(encoded_test)\n",
    "preds\n"
   ]
  },
  {
   "cell_type": "code",
   "execution_count": 79,
   "id": "dee4e9de",
   "metadata": {},
   "outputs": [
    {
     "data": {
      "text/plain": [
       "0.87"
      ]
     },
     "execution_count": 79,
     "metadata": {},
     "output_type": "execute_result"
    }
   ],
   "source": [
    "#accuracy\n",
    "accuracy_score(y_test,preds)"
   ]
  },
  {
   "cell_type": "code",
   "execution_count": 80,
   "id": "6a4ff68b",
   "metadata": {},
   "outputs": [
    {
     "name": "stdout",
     "output_type": "stream",
     "text": [
      "[[  0   0  30]\n",
      " [  0   0   9]\n",
      " [  0   0 261]]\n"
     ]
    }
   ],
   "source": [
    "#confusion matrix\n",
    "from sklearn.metrics import confusion_matrix\n",
    "confusion_matrix = confusion_matrix(y_test, preds)\n",
    "print(confusion_matrix)"
   ]
  },
  {
   "cell_type": "code",
   "execution_count": 81,
   "id": "63b7fa2d",
   "metadata": {},
   "outputs": [
    {
     "name": "stdout",
     "output_type": "stream",
     "text": [
      "              precision    recall  f1-score   support\n",
      "\n",
      "           N       0.00      0.00      0.00        30\n",
      "           P       0.00      0.00      0.00         9\n",
      "           Y       0.87      1.00      0.93       261\n",
      "\n",
      "    accuracy                           0.87       300\n",
      "   macro avg       0.29      0.33      0.31       300\n",
      "weighted avg       0.76      0.87      0.81       300\n",
      "\n"
     ]
    }
   ],
   "source": [
    "#checking for classification report of model\n",
    "print(classification_report(y_test,preds))"
   ]
  },
  {
   "cell_type": "code",
   "execution_count": null,
   "id": "5a751efb",
   "metadata": {},
   "outputs": [],
   "source": []
  }
 ],
 "metadata": {
  "colab": {
   "collapsed_sections": [
    "03ddb5b7",
    "fab7921f",
    "5a005a51",
    "df271166"
   ],
   "name": "RI02-May2022.ipynb",
   "provenance": []
  },
  "kernelspec": {
   "display_name": "Python 3 (ipykernel)",
   "language": "python",
   "name": "python3"
  },
  "language_info": {
   "codemirror_mode": {
    "name": "ipython",
    "version": 3
   },
   "file_extension": ".py",
   "mimetype": "text/x-python",
   "name": "python",
   "nbconvert_exporter": "python",
   "pygments_lexer": "ipython3",
   "version": "3.9.13"
  }
 },
 "nbformat": 4,
 "nbformat_minor": 5
}
